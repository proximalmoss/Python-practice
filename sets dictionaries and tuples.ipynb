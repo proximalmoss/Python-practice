{
 "cells": [
  {
   "cell_type": "markdown",
   "id": "9172fa8c-a8a9-4bd5-ac1b-e89889e6fd51",
   "metadata": {},
   "source": [
    "SETS"
   ]
  },
  {
   "cell_type": "code",
   "execution_count": 2,
   "id": "d5a55cdf-9b6d-4a82-812f-175518c69309",
   "metadata": {},
   "outputs": [
    {
     "name": "stdout",
     "output_type": "stream",
     "text": [
      "set()\n",
      "<class 'set'>\n"
     ]
    }
   ],
   "source": [
    "#defining an empty set\n",
    "set_var=set()\n",
    "print(set_var)\n",
    "print(type(set_var))"
   ]
  },
  {
   "cell_type": "code",
   "execution_count": 6,
   "id": "987a5c5f-178a-4713-91a6-473f68a24989",
   "metadata": {},
   "outputs": [
    {
     "name": "stdout",
     "output_type": "stream",
     "text": [
      "{'Avengers', 'Ironman', 'Hulk'}\n"
     ]
    },
    {
     "data": {
      "text/plain": [
       "set"
      ]
     },
     "execution_count": 6,
     "metadata": {},
     "output_type": "execute_result"
    }
   ],
   "source": [
    "set_var={'Avengers','Ironman','Hulk'}\n",
    "print(set_var)\n",
    "type(set_var)"
   ]
  },
  {
   "cell_type": "code",
   "execution_count": 7,
   "id": "e35959e9-8ec5-4db5-a0b8-1423dc08fd5f",
   "metadata": {},
   "outputs": [
    {
     "name": "stdout",
     "output_type": "stream",
     "text": [
      "{'Avengers', 'Ironman', 'Spiderman', 'Hulk'}\n"
     ]
    }
   ],
   "source": [
    "#inbuilt functions in sets\n",
    "set_var.add('Spiderman')\n",
    "print(set_var)"
   ]
  },
  {
   "cell_type": "code",
   "execution_count": 8,
   "id": "6f65f779-5bb7-4e0f-b9b7-9f6b2a08b79f",
   "metadata": {},
   "outputs": [],
   "source": [
    "#there is no indexing in sets"
   ]
  },
  {
   "cell_type": "code",
   "execution_count": 9,
   "id": "8965d05d-64c1-4fa9-9b30-7c62bbd7709c",
   "metadata": {},
   "outputs": [],
   "source": [
    "set1={'Avengers','Ironman','Hulk'}\n",
    "set2={'Avengers','Ironman','Hulk','Spiderman'}"
   ]
  },
  {
   "cell_type": "code",
   "execution_count": 11,
   "id": "440186b7-c75e-4677-8408-96764018d724",
   "metadata": {},
   "outputs": [
    {
     "data": {
      "text/plain": [
       "{'Spiderman'}"
      ]
     },
     "execution_count": 11,
     "metadata": {},
     "output_type": "execute_result"
    }
   ],
   "source": [
    "#difference\n",
    "set2.difference(set1)"
   ]
  },
  {
   "cell_type": "code",
   "execution_count": 12,
   "id": "9174ca06-3bd8-4cb1-98c8-0d0f69d2cf63",
   "metadata": {},
   "outputs": [
    {
     "name": "stdout",
     "output_type": "stream",
     "text": [
      "{'Spiderman'}\n"
     ]
    }
   ],
   "source": [
    "#difference update\n",
    "set2.difference_update(set1)\n",
    "print(set2)"
   ]
  },
  {
   "cell_type": "code",
   "execution_count": 14,
   "id": "29d7e4a4-f895-46e5-bfdc-1c3b88a6415a",
   "metadata": {},
   "outputs": [],
   "source": [
    "set2.intersection_update(set1)"
   ]
  },
  {
   "cell_type": "markdown",
   "id": "a345bde2-5cc9-4978-8859-725c580b189c",
   "metadata": {},
   "source": [
    "DICTIONARIES"
   ]
  },
  {
   "cell_type": "code",
   "execution_count": 15,
   "id": "9a2b5f3b-8181-45eb-9ba7-4123deb70309",
   "metadata": {},
   "outputs": [
    {
     "data": {
      "text/plain": [
       "dict"
      ]
     },
     "execution_count": 15,
     "metadata": {},
     "output_type": "execute_result"
    }
   ],
   "source": [
    "dic={}\n",
    "type(dic)"
   ]
  },
  {
   "cell_type": "code",
   "execution_count": 16,
   "id": "b38aff47-7905-4db4-97f4-8da92d8aa0da",
   "metadata": {},
   "outputs": [
    {
     "data": {
      "text/plain": [
       "set"
      ]
     },
     "execution_count": 16,
     "metadata": {},
     "output_type": "execute_result"
    }
   ],
   "source": [
    "dic={1,2,3,4,5}\n",
    "type(dic)"
   ]
  },
  {
   "cell_type": "code",
   "execution_count": 17,
   "id": "2f30a460-a422-48f8-b0d6-b545a8d1e82e",
   "metadata": {},
   "outputs": [
    {
     "data": {
      "text/plain": [
       "dict"
      ]
     },
     "execution_count": 17,
     "metadata": {},
     "output_type": "execute_result"
    }
   ],
   "source": [
    "#creating a dictionary\n",
    "my_dict={'car1':'Audi','car2':'BMW','car3':'Mercedes'}\n",
    "type(my_dict)"
   ]
  },
  {
   "cell_type": "code",
   "execution_count": 18,
   "id": "b5fb6e03-bdf9-438e-a6d9-9707f89af96e",
   "metadata": {},
   "outputs": [
    {
     "data": {
      "text/plain": [
       "'Audi'"
      ]
     },
     "execution_count": 18,
     "metadata": {},
     "output_type": "execute_result"
    }
   ],
   "source": [
    "#accessing values based on keys\n",
    "my_dict['car1']"
   ]
  },
  {
   "cell_type": "code",
   "execution_count": 21,
   "id": "45245b84-eda8-44c9-a406-bfb014ccfa9d",
   "metadata": {},
   "outputs": [
    {
     "name": "stdout",
     "output_type": "stream",
     "text": [
      "car1\n",
      "car2\n",
      "car3\n"
     ]
    }
   ],
   "source": [
    "#we can also loop through the dictionary keys\n",
    "for x in my_dict: #by default it iterates through the keys\n",
    "    print(x)"
   ]
  },
  {
   "cell_type": "code",
   "execution_count": 23,
   "id": "48993964-6022-4aca-a0e7-d5536a9e68b7",
   "metadata": {},
   "outputs": [
    {
     "name": "stdout",
     "output_type": "stream",
     "text": [
      "Audi\n",
      "BMW\n",
      "Mercedes\n"
     ]
    }
   ],
   "source": [
    "#iterating through the values\n",
    "for x in my_dict.values():\n",
    "    print(x)"
   ]
  },
  {
   "cell_type": "code",
   "execution_count": 24,
   "id": "90044225-29ee-4231-8291-28c4f66bf807",
   "metadata": {},
   "outputs": [
    {
     "name": "stdout",
     "output_type": "stream",
     "text": [
      "('car1', 'Audi')\n",
      "('car2', 'BMW')\n",
      "('car3', 'Mercedes')\n"
     ]
    }
   ],
   "source": [
    "#for iterating through both keys and values\n",
    "for x in my_dict.items():\n",
    "    print(x)"
   ]
  },
  {
   "cell_type": "code",
   "execution_count": 27,
   "id": "d4af4dae-a87d-47f0-9d2a-27ee207ff507",
   "metadata": {},
   "outputs": [
    {
     "data": {
      "text/plain": [
       "{'car1': 'Audi', 'car2': 'BMW', 'car3': 'Mercedes', 'car4': 'McLaren'}"
      ]
     },
     "execution_count": 27,
     "metadata": {},
     "output_type": "execute_result"
    }
   ],
   "source": [
    "#adding items into the dictionary\n",
    "my_dict['car4']='McLaren'\n",
    "my_dict #the same thing is used update keys with new value"
   ]
  },
  {
   "cell_type": "code",
   "execution_count": 28,
   "id": "020c8c34-181d-4d8f-bcd0-a605aad1538a",
   "metadata": {},
   "outputs": [
    {
     "name": "stdout",
     "output_type": "stream",
     "text": [
      "{'car1': {'Mercedes': 1960}, 'car2': {'Audi': 1970}, 'car3': {'McLaren': 2000}}\n"
     ]
    }
   ],
   "source": [
    "#nested dictionary\n",
    "car1_model={'Mercedes':1960}\n",
    "car2_model={'Audi':1970}\n",
    "car3_model={'McLaren':2000}\n",
    "car_type={'car1':car1_model,'car2':car2_model,'car3':car3_model}\n",
    "print(car_type)"
   ]
  },
  {
   "cell_type": "code",
   "execution_count": 29,
   "id": "86c4ea68-c695-412f-bddb-c98feb81cf8f",
   "metadata": {},
   "outputs": [
    {
     "name": "stdout",
     "output_type": "stream",
     "text": [
      "{'Mercedes': 1960}\n"
     ]
    }
   ],
   "source": [
    "#accessing the items in the dictionary\n",
    "print(car_type['car1'])"
   ]
  },
  {
   "cell_type": "code",
   "execution_count": 31,
   "id": "c72d15e5-774c-4e66-b2a9-3b60ac90972a",
   "metadata": {},
   "outputs": [
    {
     "name": "stdout",
     "output_type": "stream",
     "text": [
      "1960\n"
     ]
    }
   ],
   "source": [
    "print(car_type['car1']['Mercedes'])"
   ]
  },
  {
   "cell_type": "markdown",
   "id": "92056259-7574-4ce8-8cf7-719b23397f93",
   "metadata": {},
   "source": [
    "TUPLES"
   ]
  },
  {
   "cell_type": "code",
   "execution_count": 32,
   "id": "9c973c99-8d15-4949-9735-ad5349b4552d",
   "metadata": {},
   "outputs": [
    {
     "data": {
      "text/plain": [
       "tuple"
      ]
     },
     "execution_count": 32,
     "metadata": {},
     "output_type": "execute_result"
    }
   ],
   "source": [
    "#creating an empty tuple\n",
    "my_tuple=tuple() #we cannot change the elements of the tuple\n",
    "type(my_tuple)"
   ]
  },
  {
   "cell_type": "code",
   "execution_count": 33,
   "id": "1cb6cfff-57cf-4148-ac7a-ea7a9b06b43c",
   "metadata": {},
   "outputs": [],
   "source": [
    "my_tuple=('yes','no','and')"
   ]
  },
  {
   "cell_type": "code",
   "execution_count": 34,
   "id": "7628644a-2b96-4067-8a0b-f280195a26df",
   "metadata": {},
   "outputs": [
    {
     "data": {
      "text/plain": [
       "'yes'"
      ]
     },
     "execution_count": 34,
     "metadata": {},
     "output_type": "execute_result"
    }
   ],
   "source": [
    "#accessing elements of the tuple\n",
    "my_tuple[0]"
   ]
  },
  {
   "cell_type": "code",
   "execution_count": 35,
   "id": "974b3437-0365-4e2b-be04-28aafb36caf1",
   "metadata": {},
   "outputs": [],
   "source": [
    "#the complete tuple will get replaced but not individual elements"
   ]
  },
  {
   "cell_type": "code",
   "execution_count": 36,
   "id": "c33c653a-8321-435d-8965-8a565bfecb8f",
   "metadata": {},
   "outputs": [],
   "source": [
    "#inbuilt functions in tuples"
   ]
  },
  {
   "cell_type": "code",
   "execution_count": 40,
   "id": "0493ee04-07ab-462e-84f0-dfaf9ef6646f",
   "metadata": {},
   "outputs": [
    {
     "data": {
      "text/plain": [
       "1"
      ]
     },
     "execution_count": 40,
     "metadata": {},
     "output_type": "execute_result"
    }
   ],
   "source": [
    "my_tuple.count ('yes') #counts the number of occurances"
   ]
  },
  {
   "cell_type": "code",
   "execution_count": 41,
   "id": "19b82aa4-d877-4c02-bd4b-105ccfa8942a",
   "metadata": {},
   "outputs": [
    {
     "data": {
      "text/plain": [
       "0"
      ]
     },
     "execution_count": 41,
     "metadata": {},
     "output_type": "execute_result"
    }
   ],
   "source": [
    "my_tuple.index('yes') #returns index of the element"
   ]
  }
 ],
 "metadata": {
  "kernelspec": {
   "display_name": "Python 3 (ipykernel)",
   "language": "python",
   "name": "python3"
  },
  "language_info": {
   "codemirror_mode": {
    "name": "ipython",
    "version": 3
   },
   "file_extension": ".py",
   "mimetype": "text/x-python",
   "name": "python",
   "nbconvert_exporter": "python",
   "pygments_lexer": "ipython3",
   "version": "3.13.5"
  }
 },
 "nbformat": 4,
 "nbformat_minor": 5
}
