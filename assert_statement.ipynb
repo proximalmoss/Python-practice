{
 "cells": [
  {
   "cell_type": "markdown",
   "id": "dc0c8f52-ee39-49cc-8d36-7d2acd9eb4fe",
   "metadata": {},
   "source": [
    "ASSERT STATEMENT"
   ]
  },
  {
   "cell_type": "code",
   "execution_count": 8,
   "id": "87eb2b13-8d73-42f3-8ffd-d07c91a2a79c",
   "metadata": {},
   "outputs": [],
   "source": [
    "#part of exception handling\n",
    "#used to check if a given logical expression is true or false\n",
    "#program proceeds only if the expression is true and raises an AssertionError when false"
   ]
  },
  {
   "cell_type": "code",
   "execution_count": 2,
   "id": "e10576cf-077c-4a22-b34b-4c61b324874d",
   "metadata": {},
   "outputs": [
    {
     "data": {
      "text/plain": [
       "True"
      ]
     },
     "execution_count": 2,
     "metadata": {},
     "output_type": "execute_result"
    }
   ],
   "source": [
    "10>5"
   ]
  },
  {
   "cell_type": "code",
   "execution_count": 3,
   "id": "03349255-43f3-45f5-a6c8-10ad5007add6",
   "metadata": {},
   "outputs": [
    {
     "ename": "AssertionError",
     "evalue": "",
     "output_type": "error",
     "traceback": [
      "\u001b[31m---------------------------------------------------------------------------\u001b[39m",
      "\u001b[31mAssertionError\u001b[39m                            Traceback (most recent call last)",
      "\u001b[36mCell\u001b[39m\u001b[36m \u001b[39m\u001b[32mIn[3]\u001b[39m\u001b[32m, line 2\u001b[39m\n\u001b[32m      1\u001b[39m num=\u001b[32m10\u001b[39m\n\u001b[32m----> \u001b[39m\u001b[32m2\u001b[39m \u001b[38;5;28;01massert\u001b[39;00m num>\u001b[32m10\u001b[39m\n",
      "\u001b[31mAssertionError\u001b[39m: "
     ]
    }
   ],
   "source": [
    "num=10\n",
    "assert num>10"
   ]
  },
  {
   "cell_type": "code",
   "execution_count": 7,
   "id": "be3fd2df-31ca-44f7-8081-5855f4a73a90",
   "metadata": {},
   "outputs": [
    {
     "name": "stdin",
     "output_type": "stream",
     "text": [
      "enter the even number 11\n"
     ]
    },
    {
     "name": "stdout",
     "output_type": "stream",
     "text": [
      "please enter even number\n"
     ]
    }
   ],
   "source": [
    "try:\n",
    "    num=int(input(\"enter the even number\"))\n",
    "    assert num%2==0\n",
    "    print(\"the number is even\")\n",
    "except AssertionError:\n",
    "    print(\"please enter even number\")"
   ]
  }
 ],
 "metadata": {
  "kernelspec": {
   "display_name": "Python 3 (ipykernel)",
   "language": "python",
   "name": "python3"
  },
  "language_info": {
   "codemirror_mode": {
    "name": "ipython",
    "version": 3
   },
   "file_extension": ".py",
   "mimetype": "text/x-python",
   "name": "python",
   "nbconvert_exporter": "python",
   "pygments_lexer": "ipython3",
   "version": "3.13.5"
  }
 },
 "nbformat": 4,
 "nbformat_minor": 5
}
