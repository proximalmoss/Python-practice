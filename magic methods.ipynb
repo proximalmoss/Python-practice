{
 "cells": [
  {
   "cell_type": "code",
   "execution_count": 1,
   "id": "9cec3040-863c-49e6-8567-2a932d2f7472",
   "metadata": {},
   "outputs": [],
   "source": [
    "class car():\n",
    "    def __init__(self,windows,doors,enginetype):\n",
    "        self.windows=windows\n",
    "        self.doors=doors\n",
    "        self.enginetype=enginetype\n",
    "    def drive(self):\n",
    "        print(\"The person is driving the car\")"
   ]
  },
  {
   "cell_type": "code",
   "execution_count": 2,
   "id": "21e61bb2-603a-483c-9be8-8c5a67348926",
   "metadata": {},
   "outputs": [],
   "source": [
    "c=car(4,5,'Diesel')"
   ]
  },
  {
   "cell_type": "code",
   "execution_count": 4,
   "id": "b635257f-7037-492e-a5d2-e396ce02fa07",
   "metadata": {},
   "outputs": [
    {
     "data": {
      "text/plain": [
       "['__class__',\n",
       " '__delattr__',\n",
       " '__dict__',\n",
       " '__dir__',\n",
       " '__doc__',\n",
       " '__eq__',\n",
       " '__firstlineno__',\n",
       " '__format__',\n",
       " '__ge__',\n",
       " '__getattribute__',\n",
       " '__getstate__',\n",
       " '__gt__',\n",
       " '__hash__',\n",
       " '__init__',\n",
       " '__init_subclass__',\n",
       " '__le__',\n",
       " '__lt__',\n",
       " '__module__',\n",
       " '__ne__',\n",
       " '__new__',\n",
       " '__reduce__',\n",
       " '__reduce_ex__',\n",
       " '__repr__',\n",
       " '__setattr__',\n",
       " '__sizeof__',\n",
       " '__static_attributes__',\n",
       " '__str__',\n",
       " '__subclasshook__',\n",
       " '__weakref__',\n",
       " 'doors',\n",
       " 'drive',\n",
       " 'enginetype',\n",
       " 'windows']"
      ]
     },
     "execution_count": 4,
     "metadata": {},
     "output_type": "execute_result"
    }
   ],
   "source": [
    "dir(c)"
   ]
  },
  {
   "cell_type": "code",
   "execution_count": 6,
   "id": "812828f8-8190-4ede-994e-704602217f1f",
   "metadata": {},
   "outputs": [],
   "source": [
    "class Car():\n",
    "    def __init__(self,windows,doors,enginetype):\n",
    "        self.windows=windows\n",
    "        self.doors=doors\n",
    "        self.enginetype=enginetype\n",
    "    def __str__(self):\n",
    "        return \"The object has been initialized\"\n",
    "    def drive(self):\n",
    "        print(\"The person is driving the car\")"
   ]
  },
  {
   "cell_type": "code",
   "execution_count": 9,
   "id": "278914fb-2138-4366-b2ac-a013d35b17d8",
   "metadata": {},
   "outputs": [],
   "source": [
    "c1=Car(4,5,'Diesel')"
   ]
  },
  {
   "cell_type": "code",
   "execution_count": 10,
   "id": "27722499-b61c-492f-ae2c-90cf048177ed",
   "metadata": {},
   "outputs": [
    {
     "name": "stdout",
     "output_type": "stream",
     "text": [
      "The object has been initialized\n"
     ]
    }
   ],
   "source": [
    "print(c1)"
   ]
  },
  {
   "cell_type": "code",
   "execution_count": 15,
   "id": "6fbbac0a-4e58-4134-9a0d-81002ab82851",
   "metadata": {},
   "outputs": [
    {
     "data": {
      "text/plain": [
       "<__main__.Car at 0x10c9d9fd0>"
      ]
     },
     "execution_count": 15,
     "metadata": {},
     "output_type": "execute_result"
    }
   ],
   "source": [
    "c1 #print statement is override because of the str method"
   ]
  },
  {
   "cell_type": "code",
   "execution_count": 14,
   "id": "4fc1e3c3-c60d-4dc4-aeac-edf2ab6efca6",
   "metadata": {},
   "outputs": [
    {
     "data": {
      "text/plain": [
       "16"
      ]
     },
     "execution_count": 14,
     "metadata": {},
     "output_type": "execute_result"
    }
   ],
   "source": [
    "c1.__sizeof__() #gives size of object"
   ]
  },
  {
   "cell_type": "markdown",
   "id": "d17d588f-9eef-463c-852f-b0d7129aa2c5",
   "metadata": {},
   "source": [
    "to override we can simply give  \n",
    "def __sizeof__(self):  \n",
    "    return \"This displays the size of the object\""
   ]
  }
 ],
 "metadata": {
  "kernelspec": {
   "display_name": "Python 3 (ipykernel)",
   "language": "python",
   "name": "python3"
  },
  "language_info": {
   "codemirror_mode": {
    "name": "ipython",
    "version": 3
   },
   "file_extension": ".py",
   "mimetype": "text/x-python",
   "name": "python",
   "nbconvert_exporter": "python",
   "pygments_lexer": "ipython3",
   "version": "3.13.5"
  }
 },
 "nbformat": 4,
 "nbformat_minor": 5
}
