{
 "cells": [
  {
   "cell_type": "markdown",
   "id": "ed0e1bf9-85c2-4817-80eb-9ed981091218",
   "metadata": {},
   "source": [
    "FUNCTIONS  \n",
    "Why Functions  \n",
    "Function Definition  \n",
    "Positional and Keyword Arguments in Functions"
   ]
  },
  {
   "cell_type": "code",
   "execution_count": 1,
   "id": "48f567fd-5357-403b-9290-dad3fc095135",
   "metadata": {},
   "outputs": [
    {
     "name": "stdout",
     "output_type": "stream",
     "text": [
      "the number is even\n"
     ]
    }
   ],
   "source": [
    "num=24\n",
    "\n",
    "if num%2==0:\n",
    "    print(\"the number is even\")\n",
    "else:\n",
    "    print(\"the number is odd\")"
   ]
  },
  {
   "cell_type": "code",
   "execution_count": 2,
   "id": "c4c495e5-d2ef-49e8-b184-d8dc0cfb6378",
   "metadata": {},
   "outputs": [],
   "source": [
    "def even_odd(num):\n",
    "    if num%2==0:\n",
    "        print(\"the number is even\")\n",
    "    else:\n",
    "        print(\"the number is odd\")"
   ]
  },
  {
   "cell_type": "code",
   "execution_count": 3,
   "id": "4902e107-0f95-40e3-94b5-712305c65861",
   "metadata": {},
   "outputs": [
    {
     "name": "stdout",
     "output_type": "stream",
     "text": [
      "the number is even\n"
     ]
    }
   ],
   "source": [
    "even_odd(30)"
   ]
  },
  {
   "cell_type": "code",
   "execution_count": 4,
   "id": "2e81000d-328d-441d-bc79-2556f1ebdc2e",
   "metadata": {},
   "outputs": [],
   "source": [
    "def greet():\n",
    "    print('Hello World!')"
   ]
  },
  {
   "cell_type": "code",
   "execution_count": 5,
   "id": "db10ed22-cd91-4a6f-9c60-574e0ddaae6d",
   "metadata": {},
   "outputs": [
    {
     "name": "stdout",
     "output_type": "stream",
     "text": [
      "Hello World!\n"
     ]
    }
   ],
   "source": [
    "greet()"
   ]
  },
  {
   "cell_type": "code",
   "execution_count": 8,
   "id": "1b5a5480-0b0d-4eb9-8274-aa33ca0a0614",
   "metadata": {},
   "outputs": [
    {
     "name": "stdout",
     "output_type": "stream",
     "text": [
      "Hello World!\n",
      "None\n"
     ]
    }
   ],
   "source": [
    "val=greet()\n",
    "print(val) #this means this function dosent return anything"
   ]
  },
  {
   "cell_type": "code",
   "execution_count": 9,
   "id": "bc02bc22-b1b6-478e-a401-6e5edbf6b34a",
   "metadata": {},
   "outputs": [],
   "source": [
    "def greet():\n",
    "    return 'Hello World!'"
   ]
  },
  {
   "cell_type": "code",
   "execution_count": 10,
   "id": "26ba36b5-2030-4830-a075-64ef6255ae08",
   "metadata": {},
   "outputs": [
    {
     "name": "stdout",
     "output_type": "stream",
     "text": [
      "Hello World!\n"
     ]
    }
   ],
   "source": [
    "val=greet()\n",
    "print(val)"
   ]
  },
  {
   "cell_type": "code",
   "execution_count": 11,
   "id": "e588e33c-d160-46d9-a8b3-4970009b31a3",
   "metadata": {},
   "outputs": [],
   "source": [
    "def add(num1,num2):\n",
    "    return num1+num2"
   ]
  },
  {
   "cell_type": "code",
   "execution_count": 13,
   "id": "d4be1c68-4de3-4b45-93e5-5d0c18998c05",
   "metadata": {},
   "outputs": [
    {
     "name": "stdout",
     "output_type": "stream",
     "text": [
      "75\n"
     ]
    }
   ],
   "source": [
    "sum=add(30,45)\n",
    "print(sum)"
   ]
  },
  {
   "cell_type": "code",
   "execution_count": 17,
   "id": "717b75e7-d4df-4b51-bfae-0e3f27ffd350",
   "metadata": {},
   "outputs": [],
   "source": [
    "def hello(name,age=20): #positional argument, keyword argument\n",
    "    print('My name is {} and my age is {}'.format(name,age))"
   ]
  },
  {
   "cell_type": "code",
   "execution_count": 15,
   "id": "117c54ad-4334-4005-85a3-5528016b61ee",
   "metadata": {},
   "outputs": [
    {
     "name": "stdout",
     "output_type": "stream",
     "text": [
      "My name is Hanan and my age is 20\n"
     ]
    }
   ],
   "source": [
    "hello('Hanan')"
   ]
  },
  {
   "cell_type": "code",
   "execution_count": 18,
   "id": "250e1ba9-e09c-4022-958d-c57585ff4790",
   "metadata": {},
   "outputs": [],
   "source": [
    "def hello(*args,**kwargs):\n",
    "    print(args)\n",
    "    print(kwargs)"
   ]
  },
  {
   "cell_type": "code",
   "execution_count": 20,
   "id": "028deda6-0982-44b1-bee0-027786d23dcd",
   "metadata": {},
   "outputs": [
    {
     "name": "stdout",
     "output_type": "stream",
     "text": [
      "('Hanan', 'Hidayath')\n",
      "{'age': 19, 'dob': 2006}\n"
     ]
    }
   ],
   "source": [
    "hello(\"Hanan\",\"Hidayath\",age=19,dob=2006)"
   ]
  },
  {
   "cell_type": "code",
   "execution_count": 21,
   "id": "03f973dd-8ac4-4e95-93a3-0f4f4fdf342a",
   "metadata": {},
   "outputs": [],
   "source": [
    "lst=['Hanan','Hidayath']\n",
    "dict_args={'age':19,'dob':2006}"
   ]
  },
  {
   "cell_type": "code",
   "execution_count": 23,
   "id": "fee1f628-345f-4f7e-9f73-180ac92949c4",
   "metadata": {},
   "outputs": [
    {
     "name": "stdout",
     "output_type": "stream",
     "text": [
      "(['Hanan', 'Hidayath'], {'age': 19, 'dob': 2006})\n",
      "{}\n"
     ]
    }
   ],
   "source": [
    "hello(lst,dict_args) #need to specify"
   ]
  },
  {
   "cell_type": "code",
   "execution_count": 24,
   "id": "6e8e27c4-7a39-45d5-b0fe-cad9b3ccfc95",
   "metadata": {},
   "outputs": [
    {
     "name": "stdout",
     "output_type": "stream",
     "text": [
      "('Hanan', 'Hidayath')\n",
      "{'age': 19, 'dob': 2006}\n"
     ]
    }
   ],
   "source": [
    "hello(*lst,**dict_args)"
   ]
  },
  {
   "cell_type": "code",
   "execution_count": 25,
   "id": "03f252e2-e8bf-4f5e-ade2-9071bbf2d4c1",
   "metadata": {},
   "outputs": [],
   "source": [
    "lst=[1,2,3,4,5,6,7]"
   ]
  },
  {
   "cell_type": "code",
   "execution_count": 26,
   "id": "4486aea6-79d1-4f21-8a50-4b5828245d76",
   "metadata": {},
   "outputs": [],
   "source": [
    "def evenoddsum(lst):\n",
    "    even_sum=0\n",
    "    odd_sum=0\n",
    "    for i in lst:\n",
    "        if i%2==0:\n",
    "            even_sum+=i\n",
    "        else:\n",
    "            odd_sum+=i\n",
    "    return even_sum,odd_sum"
   ]
  },
  {
   "cell_type": "code",
   "execution_count": 27,
   "id": "9328bafd-5bb5-4799-9593-06abac5413d6",
   "metadata": {},
   "outputs": [
    {
     "data": {
      "text/plain": [
       "(12, 16)"
      ]
     },
     "execution_count": 27,
     "metadata": {},
     "output_type": "execute_result"
    }
   ],
   "source": [
    "evenoddsum(lst)"
   ]
  }
 ],
 "metadata": {
  "kernelspec": {
   "display_name": "Python 3 (ipykernel)",
   "language": "python",
   "name": "python3"
  },
  "language_info": {
   "codemirror_mode": {
    "name": "ipython",
    "version": 3
   },
   "file_extension": ".py",
   "mimetype": "text/x-python",
   "name": "python",
   "nbconvert_exporter": "python",
   "pygments_lexer": "ipython3",
   "version": "3.13.5"
  }
 },
 "nbformat": 4,
 "nbformat_minor": 5
}
