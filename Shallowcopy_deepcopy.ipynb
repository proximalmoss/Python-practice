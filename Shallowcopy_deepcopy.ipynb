{
 "cells": [
  {
   "cell_type": "code",
   "execution_count": 1,
   "id": "af9a7121-c0ab-4b59-a094-7fc8caf4aaf7",
   "metadata": {},
   "outputs": [],
   "source": [
    "lst1=[1,2,3,4]\n",
    "lst2=lst1"
   ]
  },
  {
   "cell_type": "code",
   "execution_count": 2,
   "id": "8243982b-b8e1-4705-adb1-c4ac4b4789f8",
   "metadata": {},
   "outputs": [
    {
     "data": {
      "text/plain": [
       "2"
      ]
     },
     "execution_count": 2,
     "metadata": {},
     "output_type": "execute_result"
    }
   ],
   "source": [
    "lst2[1]"
   ]
  },
  {
   "cell_type": "code",
   "execution_count": 5,
   "id": "e0026d21-e97d-4297-bcc0-0dad9fb0124b",
   "metadata": {},
   "outputs": [
    {
     "data": {
      "text/plain": [
       "[1, 1000, 3, 4]"
      ]
     },
     "execution_count": 5,
     "metadata": {},
     "output_type": "execute_result"
    }
   ],
   "source": [
    "lst2[1]= 1000\n",
    "lst2"
   ]
  },
  {
   "cell_type": "code",
   "execution_count": 6,
   "id": "6684e9d8-37e0-46e0-8371-9488fcd90f9d",
   "metadata": {},
   "outputs": [
    {
     "data": {
      "text/plain": [
       "[1, 1000, 3, 4]"
      ]
     },
     "execution_count": 6,
     "metadata": {},
     "output_type": "execute_result"
    }
   ],
   "source": [
    "lst1"
   ]
  },
  {
   "cell_type": "code",
   "execution_count": 7,
   "id": "fada0562-d7a4-46fe-82e8-efb6a97f8613",
   "metadata": {},
   "outputs": [
    {
     "data": {
      "text/plain": [
       "[1, 2, 3, 4]"
      ]
     },
     "execution_count": 7,
     "metadata": {},
     "output_type": "execute_result"
    }
   ],
   "source": [
    "#copy\n",
    "#shallow copy\n",
    "lst1=[1,2,3,4]\n",
    "lst2=lst1.copy()\n",
    "lst2"
   ]
  },
  {
   "cell_type": "code",
   "execution_count": 9,
   "id": "e281d8f0-f38e-4fba-82f8-0918d8c6e332",
   "metadata": {},
   "outputs": [
    {
     "data": {
      "text/plain": [
       "[1, 1000, 3, 4]"
      ]
     },
     "execution_count": 9,
     "metadata": {},
     "output_type": "execute_result"
    }
   ],
   "source": [
    "lst2[1]=1000\n",
    "lst2"
   ]
  },
  {
   "cell_type": "code",
   "execution_count": 11,
   "id": "f0bc987d-3d1d-4fe4-b2df-dda10ebb7951",
   "metadata": {},
   "outputs": [
    {
     "data": {
      "text/plain": [
       "[1, 2, 3, 4]"
      ]
     },
     "execution_count": 11,
     "metadata": {},
     "output_type": "execute_result"
    }
   ],
   "source": [
    "lst1 #it is going to make a different memory location"
   ]
  },
  {
   "cell_type": "code",
   "execution_count": 12,
   "id": "e9b0c12c-fd85-4ad5-aa0d-dee6bd166a31",
   "metadata": {},
   "outputs": [],
   "source": [
    "#shallow copy nested list\n",
    "lst1=[[1,2,3,4],[5,6,7,8]]\n",
    "lst2=lst1.copy()"
   ]
  },
  {
   "cell_type": "code",
   "execution_count": 13,
   "id": "36f0ba15-9245-4cc4-ba80-91777a6514b9",
   "metadata": {},
   "outputs": [
    {
     "data": {
      "text/plain": [
       "[[1, 2, 3, 4], [5, 6, 7, 8]]"
      ]
     },
     "execution_count": 13,
     "metadata": {},
     "output_type": "execute_result"
    }
   ],
   "source": [
    "lst1"
   ]
  },
  {
   "cell_type": "code",
   "execution_count": 14,
   "id": "06cfdefe-edee-4cdd-9d9d-0583a705f4c1",
   "metadata": {},
   "outputs": [
    {
     "data": {
      "text/plain": [
       "[[1, 2, 3, 4], [5, 6, 7, 8]]"
      ]
     },
     "execution_count": 14,
     "metadata": {},
     "output_type": "execute_result"
    }
   ],
   "source": [
    "lst2"
   ]
  },
  {
   "cell_type": "code",
   "execution_count": 15,
   "id": "960f83eb-cd43-4afc-9b5d-9c4ce4996b40",
   "metadata": {},
   "outputs": [
    {
     "data": {
      "text/plain": [
       "5"
      ]
     },
     "execution_count": 15,
     "metadata": {},
     "output_type": "execute_result"
    }
   ],
   "source": [
    "lst1[1][0]"
   ]
  },
  {
   "cell_type": "code",
   "execution_count": 16,
   "id": "479f21f1-1413-40cf-96c5-d9221620a665",
   "metadata": {},
   "outputs": [
    {
     "data": {
      "text/plain": [
       "[[1, 2, 3, 4], [100, 6, 7, 8]]"
      ]
     },
     "execution_count": 16,
     "metadata": {},
     "output_type": "execute_result"
    }
   ],
   "source": [
    "lst1[1][0]=100\n",
    "lst2"
   ]
  },
  {
   "cell_type": "code",
   "execution_count": 17,
   "id": "b4d3e6c4-9e15-455f-bf8e-5392422b8191",
   "metadata": {},
   "outputs": [
    {
     "data": {
      "text/plain": [
       "[[1, 2, 3, 4], [100, 6, 7, 8]]"
      ]
     },
     "execution_count": 17,
     "metadata": {},
     "output_type": "execute_result"
    }
   ],
   "source": [
    "lst1"
   ]
  },
  {
   "cell_type": "code",
   "execution_count": 18,
   "id": "79940492-706b-4c25-bbff-a8234c3b8c3f",
   "metadata": {},
   "outputs": [],
   "source": [
    "lst1.append([2,3,4,5])"
   ]
  },
  {
   "cell_type": "code",
   "execution_count": 19,
   "id": "4da1664c-f8d7-4530-9fa0-3dc7c0a16126",
   "metadata": {},
   "outputs": [
    {
     "data": {
      "text/plain": [
       "[[1, 2, 3, 4], [100, 6, 7, 8]]"
      ]
     },
     "execution_count": 19,
     "metadata": {},
     "output_type": "execute_result"
    }
   ],
   "source": [
    "lst2"
   ]
  },
  {
   "cell_type": "code",
   "execution_count": 20,
   "id": "547c7685-893d-4636-828b-b56e7d357970",
   "metadata": {},
   "outputs": [],
   "source": [
    "#item will not be copied, but when changes are made to the object inside the list then both lists change"
   ]
  },
  {
   "cell_type": "code",
   "execution_count": 21,
   "id": "2289f911-1cfb-4764-8d31-7a02f200f0c7",
   "metadata": {},
   "outputs": [],
   "source": [
    "#deep copy\n",
    "import copy\n",
    "lst1=[1,2,3,4]\n",
    "lst2=copy.deepcopy(lst1)"
   ]
  },
  {
   "cell_type": "code",
   "execution_count": 23,
   "id": "643da1f0-6d1b-4f13-930d-38a022c11f03",
   "metadata": {},
   "outputs": [
    {
     "data": {
      "text/plain": [
       "[1, 100, 3, 4]"
      ]
     },
     "execution_count": 23,
     "metadata": {},
     "output_type": "execute_result"
    }
   ],
   "source": [
    "lst2[1]=100\n",
    "lst2"
   ]
  },
  {
   "cell_type": "code",
   "execution_count": 25,
   "id": "a135df82-442c-4948-8438-d335b3949d07",
   "metadata": {},
   "outputs": [
    {
     "data": {
      "text/plain": [
       "[1, 2, 3, 4]"
      ]
     },
     "execution_count": 25,
     "metadata": {},
     "output_type": "execute_result"
    }
   ],
   "source": [
    "lst1 #in single dimension list shallow copy and deep copy are same"
   ]
  },
  {
   "cell_type": "code",
   "execution_count": 26,
   "id": "7b6c7131-fb52-4eb7-8e6b-76071903828c",
   "metadata": {},
   "outputs": [],
   "source": [
    "lst1=[[1,2,3],[3,4,5],[5,6,7]]\n",
    "lst2=copy.deepcopy(lst1)"
   ]
  },
  {
   "cell_type": "code",
   "execution_count": 27,
   "id": "9bd0d746-f978-4403-9748-8dde5252f7b5",
   "metadata": {},
   "outputs": [],
   "source": [
    "lst2[1][0]=100"
   ]
  },
  {
   "cell_type": "code",
   "execution_count": 28,
   "id": "d3d1cb36-0a5d-42e6-b349-52bd6838b17e",
   "metadata": {},
   "outputs": [
    {
     "data": {
      "text/plain": [
       "[[1, 2, 3], [100, 4, 5], [5, 6, 7]]"
      ]
     },
     "execution_count": 28,
     "metadata": {},
     "output_type": "execute_result"
    }
   ],
   "source": [
    "lst2"
   ]
  },
  {
   "cell_type": "code",
   "execution_count": 30,
   "id": "45e12fb8-5db9-4688-b543-48be035c1145",
   "metadata": {},
   "outputs": [
    {
     "data": {
      "text/plain": [
       "[[1, 2, 3], [3, 4, 5], [5, 6, 7]]"
      ]
     },
     "execution_count": 30,
     "metadata": {},
     "output_type": "execute_result"
    }
   ],
   "source": [
    "lst1 #now for everything that is being done a diff memoery location is being allocated"
   ]
  }
 ],
 "metadata": {
  "kernelspec": {
   "display_name": "Python 3 (ipykernel)",
   "language": "python",
   "name": "python3"
  },
  "language_info": {
   "codemirror_mode": {
    "name": "ipython",
    "version": 3
   },
   "file_extension": ".py",
   "mimetype": "text/x-python",
   "name": "python",
   "nbconvert_exporter": "python",
   "pygments_lexer": "ipython3",
   "version": "3.13.5"
  }
 },
 "nbformat": 4,
 "nbformat_minor": 5
}
