{
 "cells": [
  {
   "cell_type": "markdown",
   "id": "97390c63-6abd-4d99-85b8-46f3e96e55fd",
   "metadata": {},
   "source": [
    "EVAL FUNCTION--EVALUATING FUCNTIONS DYNAMICALLY"
   ]
  },
  {
   "cell_type": "code",
   "execution_count": 1,
   "id": "98d885a5-5812-493a-bebe-a4337e15ae43",
   "metadata": {},
   "outputs": [
    {
     "data": {
      "text/plain": [
       "25"
      ]
     },
     "execution_count": 1,
     "metadata": {},
     "output_type": "execute_result"
    }
   ],
   "source": [
    "5*5"
   ]
  },
  {
   "cell_type": "code",
   "execution_count": 4,
   "id": "f4cd43e5-972b-411a-810d-31aa8029202a",
   "metadata": {},
   "outputs": [
    {
     "data": {
      "text/plain": [
       "25"
      ]
     },
     "execution_count": 4,
     "metadata": {},
     "output_type": "execute_result"
    }
   ],
   "source": [
    "#used to evaluate python expressions that are written as strings\n",
    "eval(\"5*5\")"
   ]
  },
  {
   "cell_type": "code",
   "execution_count": 6,
   "id": "dc8fb80a-e304-4803-b8f0-980e98566824",
   "metadata": {},
   "outputs": [
    {
     "data": {
      "text/plain": [
       "28.5"
      ]
     },
     "execution_count": 6,
     "metadata": {},
     "output_type": "execute_result"
    }
   ],
   "source": [
    "eval(\"5*5+7/2\")"
   ]
  },
  {
   "cell_type": "code",
   "execution_count": 12,
   "id": "30b05dad-0953-483a-a57f-60806b9f264b",
   "metadata": {},
   "outputs": [
    {
     "name": "stdin",
     "output_type": "stream",
     "text": [
      "enter the python expression sum([1,2,3,4])\n"
     ]
    },
    {
     "data": {
      "text/plain": [
       "10"
      ]
     },
     "execution_count": 12,
     "metadata": {},
     "output_type": "execute_result"
    }
   ],
   "source": [
    "eval(input(\"enter the python expression\"))"
   ]
  },
  {
   "cell_type": "code",
   "execution_count": 13,
   "id": "94ab8f3b-361d-443d-8f10-1f334858350e",
   "metadata": {},
   "outputs": [],
   "source": [
    "def square_num(num):\n",
    "    return num**2"
   ]
  },
  {
   "cell_type": "code",
   "execution_count": 14,
   "id": "028e133b-df0d-4451-b244-1f308ac49e9e",
   "metadata": {},
   "outputs": [
    {
     "data": {
      "text/plain": [
       "4"
      ]
     },
     "execution_count": 14,
     "metadata": {},
     "output_type": "execute_result"
    }
   ],
   "source": [
    "eval(\"square_num(2)\")"
   ]
  },
  {
   "cell_type": "markdown",
   "id": "247047ac-4d5a-49e9-b24c-3fb82ef1428c",
   "metadata": {},
   "source": [
    "How does eval work  \n",
    "1. parse python expression\n",
    "2. complie into a byte code\n",
    "3. evaluate the python expression\n",
    "4. return result"
   ]
  },
  {
   "cell_type": "code",
   "execution_count": 16,
   "id": "16236377-ace2-4081-9264-8875911c65b0",
   "metadata": {},
   "outputs": [
    {
     "data": {
      "text/plain": [
       "<code object <module> at 0x108d10fa0, file \"<string>\", line 1>"
      ]
     },
     "execution_count": 16,
     "metadata": {},
     "output_type": "execute_result"
    }
   ],
   "source": [
    "var=compile(\"5*5\",\"<string>\",\"eval\")\n",
    "var"
   ]
  },
  {
   "cell_type": "code",
   "execution_count": 17,
   "id": "81a69600-9349-41ad-90ff-79462c92b445",
   "metadata": {},
   "outputs": [
    {
     "data": {
      "text/plain": [
       "25"
      ]
     },
     "execution_count": 17,
     "metadata": {},
     "output_type": "execute_result"
    }
   ],
   "source": [
    "eval(var)"
   ]
  },
  {
   "cell_type": "code",
   "execution_count": 20,
   "id": "78c9adf3-4a0f-4801-ad2f-42c3f8605278",
   "metadata": {},
   "outputs": [
    {
     "data": {
      "text/plain": [
       "160"
      ]
     },
     "execution_count": 20,
     "metadata": {},
     "output_type": "execute_result"
    }
   ],
   "source": [
    "#globals\n",
    "eval(\"x+50+x**2\",{\"x\":10})"
   ]
  },
  {
   "cell_type": "code",
   "execution_count": 21,
   "id": "1f6dcf50-7ba8-4b20-a247-a9143a0ee24c",
   "metadata": {},
   "outputs": [
    {
     "data": {
      "text/plain": [
       "160"
      ]
     },
     "execution_count": 21,
     "metadata": {},
     "output_type": "execute_result"
    }
   ],
   "source": [
    "x=10\n",
    "eval(\"x+50+x**2\",{\"x\":x})"
   ]
  },
  {
   "cell_type": "code",
   "execution_count": 22,
   "id": "44d31477-1d34-4c4b-bfaf-0c414f289827",
   "metadata": {},
   "outputs": [
    {
     "data": {
      "text/plain": [
       "200"
      ]
     },
     "execution_count": 22,
     "metadata": {},
     "output_type": "execute_result"
    }
   ],
   "source": [
    "x=100\n",
    "z=100\n",
    "eval(\"x+z\")"
   ]
  },
  {
   "cell_type": "code",
   "execution_count": 23,
   "id": "c0e4b0fd-a29b-4297-ab29-24ea0117d2f9",
   "metadata": {},
   "outputs": [
    {
     "data": {
      "text/plain": [
       "400"
      ]
     },
     "execution_count": 23,
     "metadata": {},
     "output_type": "execute_result"
    }
   ],
   "source": [
    "#local\n",
    "eval(\"a+b+c\",{},{\"a\":100,\"b\":200,\"c\":100})"
   ]
  },
  {
   "cell_type": "code",
   "execution_count": 24,
   "id": "22524d4e-0660-4a99-8c8c-0eb5abfd1b51",
   "metadata": {},
   "outputs": [
    {
     "data": {
      "text/plain": [
       "True"
      ]
     },
     "execution_count": 24,
     "metadata": {},
     "output_type": "execute_result"
    }
   ],
   "source": [
    "a=100\n",
    "b=200\n",
    "eval(\"a<b\")"
   ]
  },
  {
   "cell_type": "code",
   "execution_count": 25,
   "id": "e9f15295-e8a6-400a-81b3-cfca298e2db5",
   "metadata": {},
   "outputs": [],
   "source": [
    "#it is considered insecure since it allows to run dinamically arbitrary"
   ]
  }
 ],
 "metadata": {
  "kernelspec": {
   "display_name": "Python 3 (ipykernel)",
   "language": "python",
   "name": "python3"
  },
  "language_info": {
   "codemirror_mode": {
    "name": "ipython",
    "version": 3
   },
   "file_extension": ".py",
   "mimetype": "text/x-python",
   "name": "python",
   "nbconvert_exporter": "python",
   "pygments_lexer": "ipython3",
   "version": "3.13.5"
  }
 },
 "nbformat": 4,
 "nbformat_minor": 5
}
