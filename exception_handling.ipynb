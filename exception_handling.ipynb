{
 "cells": [
  {
   "cell_type": "markdown",
   "id": "c3cfdc98-da35-40a5-a43f-53ee361267d8",
   "metadata": {},
   "source": [
    "EXCEPTION HANDLING"
   ]
  },
  {
   "cell_type": "code",
   "execution_count": 1,
   "id": "e0375419-66e2-4388-872f-ec48be47eec5",
   "metadata": {},
   "outputs": [
    {
     "ename": "NameError",
     "evalue": "name 'b' is not defined",
     "output_type": "error",
     "traceback": [
      "\u001b[31m---------------------------------------------------------------------------\u001b[39m",
      "\u001b[31mNameError\u001b[39m                                 Traceback (most recent call last)",
      "\u001b[36mCell\u001b[39m\u001b[36m \u001b[39m\u001b[32mIn[1]\u001b[39m\u001b[32m, line 1\u001b[39m\n\u001b[32m----> \u001b[39m\u001b[32m1\u001b[39m a=\u001b[43mb\u001b[49m\n",
      "\u001b[31mNameError\u001b[39m: name 'b' is not defined"
     ]
    }
   ],
   "source": [
    "a=b"
   ]
  },
  {
   "cell_type": "code",
   "execution_count": 5,
   "id": "86a8ab91-2286-40af-a469-2012457480a0",
   "metadata": {},
   "outputs": [
    {
     "name": "stdout",
     "output_type": "stream",
     "text": [
      "some problem may have occured\n"
     ]
    }
   ],
   "source": [
    "try:\n",
    "    #code block where exception can occur\n",
    "    a=b\n",
    "except:\n",
    "    print(\"some problem may have occured\")"
   ]
  },
  {
   "cell_type": "code",
   "execution_count": 6,
   "id": "a3067e7d-f7b4-4e12-9eed-b3e79b6b1d3f",
   "metadata": {},
   "outputs": [
    {
     "name": "stdout",
     "output_type": "stream",
     "text": [
      "name 'b' is not defined\n"
     ]
    }
   ],
   "source": [
    "try:\n",
    "    #code block where exception can occur\n",
    "    a=b\n",
    "except Exception as e:\n",
    "    print(e)"
   ]
  },
  {
   "cell_type": "code",
   "execution_count": 7,
   "id": "24d6321b-65ab-43fa-90a3-cdc69b53657c",
   "metadata": {},
   "outputs": [
    {
     "name": "stdout",
     "output_type": "stream",
     "text": [
      "the user has not defined the variable\n"
     ]
    }
   ],
   "source": [
    "try:\n",
    "    #code block where exception can occur\n",
    "    a=b\n",
    "except NameError as ex:\n",
    "    print(\"the user has not defined the variable\")"
   ]
  },
  {
   "cell_type": "code",
   "execution_count": 8,
   "id": "b126572a-167d-4a4d-9f9e-0ae930c5ce48",
   "metadata": {},
   "outputs": [],
   "source": [
    "#except exception as e should always be in the end"
   ]
  },
  {
   "cell_type": "code",
   "execution_count": 10,
   "id": "bf0d7908-0bf9-47f3-bbe9-687565142d1c",
   "metadata": {},
   "outputs": [
    {
     "name": "stdout",
     "output_type": "stream",
     "text": [
      "Make the datatype similar\n"
     ]
    }
   ],
   "source": [
    "try:\n",
    "    #code block where exception can occur\n",
    "    a=1\n",
    "    b='s'\n",
    "    c=a+b\n",
    "except NameError as ex:\n",
    "    print(\"the user has not defined the variable\")\n",
    "except TypeError as ex1:\n",
    "    print(\"Make the datatype similar\")\n",
    "except Exception as e:\n",
    "    print(e)"
   ]
  },
  {
   "cell_type": "code",
   "execution_count": 16,
   "id": "516edf05-dbd9-4037-9288-b3c1839b2744",
   "metadata": {},
   "outputs": [
    {
     "name": "stdin",
     "output_type": "stream",
     "text": [
      "Enter the first number: 4\n",
      "Enter the second number 0\n"
     ]
    },
    {
     "name": "stdout",
     "output_type": "stream",
     "text": [
      "Please provide number greater than zero\n"
     ]
    }
   ],
   "source": [
    "try:\n",
    "    #code block where exception can occur\n",
    "    a=int(input(\"Enter the first number:\"))\n",
    "    b=int(input(\"Enter the second number\"))\n",
    "    c=a/b\n",
    "    d=a*b\n",
    "    e=a+b\n",
    "    print(c)\n",
    "    print(d)\n",
    "    print(e)\n",
    "except NameError as ex:\n",
    "    print(\"the user has not defined the variable\")\n",
    "except ZeroDivisionError as ex2:\n",
    "    print(\"Please provide number greater than zero\")\n",
    "except TypeError as ex1:\n",
    "    print(\"Make the datatype similar\")\n",
    "except Exception as e:\n",
    "    print(e)"
   ]
  },
  {
   "cell_type": "code",
   "execution_count": 19,
   "id": "1aac7f89-8649-48ac-9b8c-32b5ae13e3c2",
   "metadata": {},
   "outputs": [
    {
     "name": "stdin",
     "output_type": "stream",
     "text": [
      "Enter the first number: 4\n",
      "Enter the second number 5\n"
     ]
    },
    {
     "name": "stdout",
     "output_type": "stream",
     "text": [
      "0.8\n",
      "20\n",
      "9\n"
     ]
    }
   ],
   "source": [
    "#try else method\n",
    "try:\n",
    "    #code block where exception can occur\n",
    "    a=int(input(\"Enter the first number:\"))\n",
    "    b=int(input(\"Enter the second number\"))\n",
    "    c=a/b\n",
    "    d=a*b\n",
    "    e=a+b\n",
    "except NameError as ex:\n",
    "    print(\"the user has not defined the variable\")\n",
    "except ZeroDivisionError as ex2:\n",
    "    print(\"Please provide number greater than zero\")\n",
    "except TypeError as ex1:\n",
    "    print(\"Make the datatype similar\")\n",
    "except Exception as e:\n",
    "    print(e)\n",
    "else:\n",
    "    print(c)\n",
    "    print(d)\n",
    "    print(e)"
   ]
  },
  {
   "cell_type": "code",
   "execution_count": 21,
   "id": "08b6ed2e-9bfe-4303-8b1c-9b335c00db9a",
   "metadata": {},
   "outputs": [
    {
     "name": "stdin",
     "output_type": "stream",
     "text": [
      "Enter the first number: 4\n",
      "Enter the second number 0\n"
     ]
    },
    {
     "name": "stdout",
     "output_type": "stream",
     "text": [
      "Please provide number greater than zero\n",
      "execution is done!\n"
     ]
    }
   ],
   "source": [
    "#try else finally\n",
    "try:\n",
    "    #code block where exception can occur\n",
    "    a=int(input(\"Enter the first number:\"))\n",
    "    b=int(input(\"Enter the second number\"))\n",
    "    c=a/b\n",
    "except NameError as ex:\n",
    "    print(\"the user has not defined the variable\")\n",
    "except ZeroDivisionError as ex2:\n",
    "    print(\"Please provide number greater than zero\")\n",
    "except TypeError as ex1:\n",
    "    print(\"Make the datatype similar\")\n",
    "except Exception as e:\n",
    "    print(e)\n",
    "else:\n",
    "    print(c)\n",
    "finally:\n",
    "    print(\"execution is done!\") #printed eitherways even if exception occurs or not"
   ]
  },
  {
   "cell_type": "markdown",
   "id": "ca3730ff-d0f1-456a-8a42-3a708899ace9",
   "metadata": {},
   "source": [
    "CUSTOM EXCEPTION"
   ]
  },
  {
   "cell_type": "code",
   "execution_count": 28,
   "id": "28b7e4f8-19a9-4808-b111-5ec362a95383",
   "metadata": {},
   "outputs": [],
   "source": [
    "class error(Exception):\n",
    "    pass\n",
    "class dobException(error):\n",
    "    pass\n",
    "class customgeneric(error):\n",
    "    pass"
   ]
  },
  {
   "cell_type": "code",
   "execution_count": 27,
   "id": "9b4241fe-d9ca-4a4b-a812-aa1864145f38",
   "metadata": {},
   "outputs": [
    {
     "name": "stdin",
     "output_type": "stream",
     "text": [
      "Enter the year of Birth 2006\n"
     ]
    },
    {
     "name": "stdout",
     "output_type": "stream",
     "text": [
      "The year age is not valid\n"
     ]
    }
   ],
   "source": [
    "year=int(input(\"Enter the year of Birth\"))\n",
    "age=2025-year\n",
    "try:\n",
    "    if age<=30 & age>20:\n",
    "        pass\n",
    "    else:\n",
    "        raise dobException\n",
    "except dobException:\n",
    "    print(\"The year age is not valid\")"
   ]
  }
 ],
 "metadata": {
  "kernelspec": {
   "display_name": "Python 3 (ipykernel)",
   "language": "python",
   "name": "python3"
  },
  "language_info": {
   "codemirror_mode": {
    "name": "ipython",
    "version": 3
   },
   "file_extension": ".py",
   "mimetype": "text/x-python",
   "name": "python",
   "nbconvert_exporter": "python",
   "pygments_lexer": "ipython3",
   "version": "3.13.5"
  }
 },
 "nbformat": 4,
 "nbformat_minor": 5
}
