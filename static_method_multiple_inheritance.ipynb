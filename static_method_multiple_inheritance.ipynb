{
 "cells": [
  {
   "cell_type": "markdown",
   "id": "2556674a-ae93-4e37-86d4-5e615b4396dc",
   "metadata": {},
   "source": [
    "STATIC METHOD"
   ]
  },
  {
   "cell_type": "code",
   "execution_count": 1,
   "id": "95c238e9-e021-4caf-92e5-07b03f844aaa",
   "metadata": {},
   "outputs": [],
   "source": [
    "import datetime\n",
    "now=datetime.datetime.now()"
   ]
  },
  {
   "cell_type": "code",
   "execution_count": 4,
   "id": "a0337913-f8d0-4917-ba00-cd97074ee447",
   "metadata": {},
   "outputs": [],
   "source": [
    "class car:\n",
    "    base_price=100000 #class variable\n",
    "    def __init__(self,windows,doors,power):\n",
    "        self.windows=windows\n",
    "        self.doors=doors\n",
    "        self.power=power\n",
    "    def what_base_price(self):\n",
    "        print(f\"The base price is {self.base_price}\")\n",
    "    @classmethod\n",
    "    def revise_base_price(cls,inflation):\n",
    "        cls.base_price=cls.base_price+cls.base_price*inflation\n",
    "    @staticmethod #we dont provide any parameter like self\n",
    "    def check_year():\n",
    "        if now.year==2021:\n",
    "            return True\n",
    "        else:\n",
    "            return False"
   ]
  },
  {
   "cell_type": "code",
   "execution_count": 5,
   "id": "bb9ff71c-cfbe-4a31-9859-5c20c04d2f04",
   "metadata": {},
   "outputs": [
    {
     "data": {
      "text/plain": [
       "False"
      ]
     },
     "execution_count": 5,
     "metadata": {},
     "output_type": "execute_result"
    }
   ],
   "source": [
    "car.check_year()"
   ]
  },
  {
   "cell_type": "code",
   "execution_count": 6,
   "id": "84054423-bf8f-49af-a141-627a1dfc80b9",
   "metadata": {},
   "outputs": [],
   "source": [
    "car1=car(4,5,2000)"
   ]
  },
  {
   "cell_type": "code",
   "execution_count": 12,
   "id": "3759990a-8ae4-41a5-8449-9ab3c1cba670",
   "metadata": {},
   "outputs": [],
   "source": [
    "if(car1.check_year()):\n",
    "    pass\n",
    "else:\n",
    "    car.revise_base_price(0)"
   ]
  },
  {
   "cell_type": "code",
   "execution_count": 13,
   "id": "040c8d4c-1a2b-4770-80c7-8ff7da155ced",
   "metadata": {},
   "outputs": [
    {
     "data": {
      "text/plain": [
       "100000"
      ]
     },
     "execution_count": 13,
     "metadata": {},
     "output_type": "execute_result"
    }
   ],
   "source": [
    "car1.base_price"
   ]
  },
  {
   "cell_type": "markdown",
   "id": "92410cdb-9482-4911-92bb-ac1692f4fd8d",
   "metadata": {},
   "source": [
    "MULTIPLE INHERITANCE"
   ]
  },
  {
   "cell_type": "code",
   "execution_count": 14,
   "id": "237f4ea6-db5b-4586-875e-a58c6a5edba9",
   "metadata": {},
   "outputs": [],
   "source": [
    "class A:\n",
    "    def method1(self):\n",
    "        print(\"A method is called\")"
   ]
  },
  {
   "cell_type": "code",
   "execution_count": 15,
   "id": "40f14440-7396-46b5-964f-abc4a6b91e0e",
   "metadata": {},
   "outputs": [],
   "source": [
    "class B(A):\n",
    "    def method1(self):\n",
    "        print(\"B class method is called\")"
   ]
  },
  {
   "cell_type": "code",
   "execution_count": 17,
   "id": "2cba96a4-f817-4206-b0ef-fe22df29ba2b",
   "metadata": {},
   "outputs": [],
   "source": [
    "class C(A):\n",
    "    def method1(self):\n",
    "        print(\"C class method is called\")"
   ]
  },
  {
   "cell_type": "code",
   "execution_count": 25,
   "id": "9c8ab56e-f976-4c7d-8119-e62c3f5829c5",
   "metadata": {},
   "outputs": [],
   "source": [
    "class D(B,C):\n",
    "    def method1(self):\n",
    "        print(\"D class method is called\")\n",
    "        #to call all methods at once\n",
    "        C.method1(self)\n",
    "        B.method1(self)\n",
    "        A.method1(self)"
   ]
  },
  {
   "cell_type": "code",
   "execution_count": 27,
   "id": "acbebbfb-3f9b-46b6-9d35-71da3fcd934a",
   "metadata": {},
   "outputs": [],
   "source": [
    "d=D()"
   ]
  },
  {
   "cell_type": "code",
   "execution_count": 21,
   "id": "755435c1-2c3f-4881-81ec-85acae3b6fd5",
   "metadata": {},
   "outputs": [
    {
     "name": "stdout",
     "output_type": "stream",
     "text": [
      "D class method is called\n"
     ]
    }
   ],
   "source": [
    "d.method1()"
   ]
  },
  {
   "cell_type": "code",
   "execution_count": 23,
   "id": "9f083faa-8210-4951-ac67-b83609e4bf2d",
   "metadata": {},
   "outputs": [
    {
     "name": "stdout",
     "output_type": "stream",
     "text": [
      "B class method is called\n"
     ]
    }
   ],
   "source": [
    "B.method1(d)"
   ]
  },
  {
   "cell_type": "code",
   "execution_count": 24,
   "id": "f94b8a14-47ad-47ba-97b7-f417225332a4",
   "metadata": {},
   "outputs": [
    {
     "name": "stdout",
     "output_type": "stream",
     "text": [
      "A method is called\n"
     ]
    }
   ],
   "source": [
    "A.method1(d)"
   ]
  },
  {
   "cell_type": "code",
   "execution_count": 28,
   "id": "db74dcd8-8b5d-45db-9a1e-6602bb5f7dbc",
   "metadata": {},
   "outputs": [
    {
     "name": "stdout",
     "output_type": "stream",
     "text": [
      "D class method is called\n",
      "C class method is called\n",
      "B class method is called\n",
      "A method is called\n"
     ]
    }
   ],
   "source": [
    "d.method1()"
   ]
  }
 ],
 "metadata": {
  "kernelspec": {
   "display_name": "Python 3 (ipykernel)",
   "language": "python",
   "name": "python3"
  },
  "language_info": {
   "codemirror_mode": {
    "name": "ipython",
    "version": 3
   },
   "file_extension": ".py",
   "mimetype": "text/x-python",
   "name": "python",
   "nbconvert_exporter": "python",
   "pygments_lexer": "ipython3",
   "version": "3.13.5"
  }
 },
 "nbformat": 4,
 "nbformat_minor": 5
}
