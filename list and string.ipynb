{
 "cells": [
  {
   "cell_type": "markdown",
   "id": "87641794-37a3-4276-8954-3d40fc92d687",
   "metadata": {},
   "source": [
    "LIST COMPREHENSION"
   ]
  },
  {
   "cell_type": "code",
   "execution_count": 4,
   "id": "f1d52ac0-0cca-4774-8474-6fffdcc60471",
   "metadata": {},
   "outputs": [],
   "source": [
    "lst1=[]\n",
    "def lst_square(lst):\n",
    "    for i in lst:\n",
    "        lst1.append(i*i)\n",
    "    return lst1"
   ]
  },
  {
   "cell_type": "code",
   "execution_count": 5,
   "id": "7e169f8f-6126-4a5e-a6b5-4a358b148010",
   "metadata": {},
   "outputs": [
    {
     "data": {
      "text/plain": [
       "[1, 4, 9, 16, 25, 36]"
      ]
     },
     "execution_count": 5,
     "metadata": {},
     "output_type": "execute_result"
    }
   ],
   "source": [
    "lst_square([1,2,3,4,5,6])"
   ]
  },
  {
   "cell_type": "code",
   "execution_count": 9,
   "id": "5119bba6-03cb-4aee-97eb-950e0422b274",
   "metadata": {},
   "outputs": [
    {
     "name": "stdout",
     "output_type": "stream",
     "text": [
      "[4, 16]\n"
     ]
    }
   ],
   "source": [
    "lst=[2,3,4,5]\n",
    "square=[i*i for i in lst if i%2==0]\n",
    "print(square)"
   ]
  },
  {
   "cell_type": "markdown",
   "id": "1342c816-b600-4d43-8e89-a8e29c8b8159",
   "metadata": {},
   "source": [
    "STRING FORMATTING"
   ]
  },
  {
   "cell_type": "code",
   "execution_count": 10,
   "id": "5df6dd7c-a598-4621-a25a-17b8d8256de8",
   "metadata": {},
   "outputs": [
    {
     "name": "stdout",
     "output_type": "stream",
     "text": [
      "Hello everyone\n"
     ]
    }
   ],
   "source": [
    "print(\"Hello everyone\")"
   ]
  },
  {
   "cell_type": "code",
   "execution_count": 15,
   "id": "daf540a8-3bc1-4eaa-a9e6-50979968723f",
   "metadata": {},
   "outputs": [],
   "source": [
    "def greet(name):\n",
    "    return f\"Hello {name}\""
   ]
  },
  {
   "cell_type": "code",
   "execution_count": 16,
   "id": "a4ba3884-1e41-4bdf-8dcc-ad85992198bd",
   "metadata": {},
   "outputs": [
    {
     "data": {
      "text/plain": [
       "'Hello Hanan'"
      ]
     },
     "execution_count": 16,
     "metadata": {},
     "output_type": "execute_result"
    }
   ],
   "source": [
    "greet(\"Hanan\")"
   ]
  },
  {
   "cell_type": "code",
   "execution_count": 17,
   "id": "9b2103c3-6873-4c3e-a942-4a1aa83970b2",
   "metadata": {},
   "outputs": [],
   "source": [
    "def welcome_email(firstname,lastname):\n",
    "    return f\"Welcome {firstname} {lastname}\""
   ]
  },
  {
   "cell_type": "code",
   "execution_count": 20,
   "id": "471ac164-df20-4b25-9e88-ff36e47f9914",
   "metadata": {},
   "outputs": [
    {
     "data": {
      "text/plain": [
       "'Welcome Hanan Hidayath'"
      ]
     },
     "execution_count": 20,
     "metadata": {},
     "output_type": "execute_result"
    }
   ],
   "source": [
    "welcome_email('Hanan', 'Hidayath')"
   ]
  },
  {
   "cell_type": "markdown",
   "id": "0b990f27-60f5-4411-b720-4efc21ef2612",
   "metadata": {},
   "source": [
    "ITERABLES AND ITERATORS"
   ]
  },
  {
   "cell_type": "code",
   "execution_count": 34,
   "id": "416695e4-abb1-474e-a2b0-49b770c57e08",
   "metadata": {},
   "outputs": [
    {
     "name": "stdout",
     "output_type": "stream",
     "text": [
      "1\n",
      "2\n",
      "3\n",
      "4\n",
      "5\n"
     ]
    }
   ],
   "source": [
    "lst=[1,2,3,4,5]\n",
    "for i in lst:\n",
    "    print(i)"
   ]
  },
  {
   "cell_type": "code",
   "execution_count": 35,
   "id": "2613db41-36b4-4a00-b1b6-79352fbc52e1",
   "metadata": {},
   "outputs": [],
   "source": [
    "lst1=iter(lst)"
   ]
  },
  {
   "cell_type": "code",
   "execution_count": 36,
   "id": "e2d3702a-eef3-4075-9852-9aef8e7067fa",
   "metadata": {},
   "outputs": [
    {
     "data": {
      "text/plain": [
       "<list_iterator at 0x108d00e20>"
      ]
     },
     "execution_count": 36,
     "metadata": {},
     "output_type": "execute_result"
    }
   ],
   "source": [
    "lst1"
   ]
  },
  {
   "cell_type": "code",
   "execution_count": 39,
   "id": "25916be7-5611-41e2-a647-a08c627d784d",
   "metadata": {},
   "outputs": [],
   "source": [
    "#for iter() we cannot see all the elements at once because the memory has not initialized\n",
    "#its value only one by one it is stored "
   ]
  },
  {
   "cell_type": "code",
   "execution_count": 38,
   "id": "e2a49a47-d9cc-4588-8220-cc6871ae8380",
   "metadata": {},
   "outputs": [
    {
     "data": {
      "text/plain": [
       "2"
      ]
     },
     "execution_count": 38,
     "metadata": {},
     "output_type": "execute_result"
    }
   ],
   "source": [
    "next(lst1)"
   ]
  }
 ],
 "metadata": {
  "kernelspec": {
   "display_name": "Python 3 (ipykernel)",
   "language": "python",
   "name": "python3"
  },
  "language_info": {
   "codemirror_mode": {
    "name": "ipython",
    "version": 3
   },
   "file_extension": ".py",
   "mimetype": "text/x-python",
   "name": "python",
   "nbconvert_exporter": "python",
   "pygments_lexer": "ipython3",
   "version": "3.13.5"
  }
 },
 "nbformat": 4,
 "nbformat_minor": 5
}
