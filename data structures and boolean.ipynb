{
 "cells": [
  {
   "cell_type": "markdown",
   "id": "9432efa2-61b2-494c-9aa1-52bb8d28c569",
   "metadata": {},
   "source": [
    "Data Structures and Boolean"
   ]
  },
  {
   "cell_type": "markdown",
   "id": "d6ea06e3-1ef4-467d-bd31-799645ff09c4",
   "metadata": {},
   "source": [
    "Boolean Variables (False or True)"
   ]
  },
  {
   "cell_type": "code",
   "execution_count": 2,
   "id": "f904794d-8ffc-4fe1-b673-54d7cc8ad0d6",
   "metadata": {},
   "outputs": [
    {
     "name": "stdout",
     "output_type": "stream",
     "text": [
      "True False\n"
     ]
    }
   ],
   "source": [
    "print (True,False)"
   ]
  },
  {
   "cell_type": "code",
   "execution_count": 3,
   "id": "9e0f5528-0731-4f62-ad95-f1b8b2294469",
   "metadata": {},
   "outputs": [
    {
     "data": {
      "text/plain": [
       "bool"
      ]
     },
     "execution_count": 3,
     "metadata": {},
     "output_type": "execute_result"
    }
   ],
   "source": [
    "type (True)\n",
    "type (False)"
   ]
  },
  {
   "cell_type": "code",
   "execution_count": 4,
   "id": "850f4d78-3b53-4d71-8ea4-8751ac88c8bb",
   "metadata": {},
   "outputs": [],
   "source": [
    "my_str='Hanan Hidayathulla'"
   ]
  },
  {
   "cell_type": "code",
   "execution_count": 6,
   "id": "59d80c4e-c965-4510-bda5-0d6a16e6c507",
   "metadata": {},
   "outputs": [
    {
     "name": "stdout",
     "output_type": "stream",
     "text": [
      "False\n",
      "False\n",
      "False\n",
      "True\n",
      "False\n",
      "False\n",
      "False\n",
      "True\n",
      "True\n"
     ]
    }
   ],
   "source": [
    "print(my_str.isalnum()) #check if all char are numbers\n",
    "print(my_str.isalpha()) #check if all char are alphabets\n",
    "print(my_str.isdigit()) #check if the string contains digits\n",
    "print(my_str.istitle()) #test if string contains title words\n",
    "print(my_str.isupper()) #test if the string contains uppercase\n",
    "print(my_str.islower()) #test if the string contains lowercase\n",
    "print(my_str.isspace()) #check if the string contains spaces\n",
    "print(my_str.endswith('a')) #check if the string ends with 'a'\n",
    "print (my_str.startswith('H')) #check if the string starts with 'H'"
   ]
  },
  {
   "cell_type": "markdown",
   "id": "66947f7c-d7e1-46fe-8e1c-7a34476017f5",
   "metadata": {},
   "source": [
    "Boolean and Logical Operatos"
   ]
  },
  {
   "cell_type": "code",
   "execution_count": 9,
   "id": "08753c22-1776-47dc-97ac-9f3a70d6f219",
   "metadata": {},
   "outputs": [
    {
     "data": {
      "text/plain": [
       "True"
      ]
     },
     "execution_count": 9,
     "metadata": {},
     "output_type": "execute_result"
    }
   ],
   "source": [
    "True and True"
   ]
  },
  {
   "cell_type": "code",
   "execution_count": 10,
   "id": "186891e6-3bb1-4f73-aad5-6dd1324ba9e3",
   "metadata": {},
   "outputs": [
    {
     "data": {
      "text/plain": [
       "True"
      ]
     },
     "execution_count": 10,
     "metadata": {},
     "output_type": "execute_result"
    }
   ],
   "source": [
    "True or True"
   ]
  },
  {
   "cell_type": "code",
   "execution_count": 11,
   "id": "a80a87df-6808-46d5-a209-05c0bc5fca2d",
   "metadata": {},
   "outputs": [
    {
     "data": {
      "text/plain": [
       "False"
      ]
     },
     "execution_count": 11,
     "metadata": {},
     "output_type": "execute_result"
    }
   ],
   "source": [
    "True and False"
   ]
  },
  {
   "cell_type": "code",
   "execution_count": 12,
   "id": "c110d8cd-4fce-4382-89cd-84492322a26a",
   "metadata": {},
   "outputs": [
    {
     "data": {
      "text/plain": [
       "True"
      ]
     },
     "execution_count": 12,
     "metadata": {},
     "output_type": "execute_result"
    }
   ],
   "source": [
    "True or False"
   ]
  },
  {
   "cell_type": "code",
   "execution_count": 13,
   "id": "86bca53f-c2fc-480b-abb5-7dbb8c158b68",
   "metadata": {},
   "outputs": [],
   "source": [
    "str_example='Hello world'\n",
    "my_str='Hanan'"
   ]
  },
  {
   "cell_type": "code",
   "execution_count": 14,
   "id": "601038a6-19e6-4230-b6d3-df34a00c0ed9",
   "metadata": {},
   "outputs": [
    {
     "data": {
      "text/plain": [
       "True"
      ]
     },
     "execution_count": 14,
     "metadata": {},
     "output_type": "execute_result"
    }
   ],
   "source": [
    "my_str.isalpha() or str_example.isnum()"
   ]
  },
  {
   "cell_type": "markdown",
   "id": "a0eb444f-297f-491f-b2af-cc3e3ee19a21",
   "metadata": {},
   "source": [
    "Lists"
   ]
  },
  {
   "cell_type": "code",
   "execution_count": 16,
   "id": "5de48a76-2961-4980-9044-63a4198190bc",
   "metadata": {},
   "outputs": [],
   "source": [
    "lst_example=[]"
   ]
  },
  {
   "cell_type": "code",
   "execution_count": 17,
   "id": "afe7aaf1-f93e-48be-81d2-13c788bb3d59",
   "metadata": {},
   "outputs": [
    {
     "data": {
      "text/plain": [
       "list"
      ]
     },
     "execution_count": 17,
     "metadata": {},
     "output_type": "execute_result"
    }
   ],
   "source": [
    "type(lst_example)"
   ]
  },
  {
   "cell_type": "code",
   "execution_count": 18,
   "id": "005c43ba-ab4a-4bbe-a012-ceb6c9173d81",
   "metadata": {},
   "outputs": [],
   "source": [
    "lst=list()"
   ]
  },
  {
   "cell_type": "code",
   "execution_count": 19,
   "id": "bb98f320-f587-4004-944f-a42a307c8c2e",
   "metadata": {},
   "outputs": [
    {
     "data": {
      "text/plain": [
       "list"
      ]
     },
     "execution_count": 19,
     "metadata": {},
     "output_type": "execute_result"
    }
   ],
   "source": [
    "type(lst)"
   ]
  },
  {
   "cell_type": "code",
   "execution_count": 20,
   "id": "b66d51a1-be76-43bd-bfa6-2b1c2fbb7780",
   "metadata": {},
   "outputs": [],
   "source": [
    "lst=['Mathematics','Chemistry',100,200,300] #can be of different datatype"
   ]
  },
  {
   "cell_type": "code",
   "execution_count": 21,
   "id": "78c3bc39-28a8-4097-a00e-becd00f7b61a",
   "metadata": {},
   "outputs": [
    {
     "data": {
      "text/plain": [
       "5"
      ]
     },
     "execution_count": 21,
     "metadata": {},
     "output_type": "execute_result"
    }
   ],
   "source": [
    "len(lst)"
   ]
  },
  {
   "cell_type": "markdown",
   "id": "be6f877d-587d-44e9-b2dc-c1d9b608e48b",
   "metadata": {},
   "source": [
    "Append"
   ]
  },
  {
   "cell_type": "code",
   "execution_count": 24,
   "id": "e80455c9-e862-4cfc-8c68-3d373b81cf89",
   "metadata": {},
   "outputs": [],
   "source": [
    "#used to add more items to the list\n",
    "lst.append('Hanan') #adds item to the end of the list"
   ]
  },
  {
   "cell_type": "code",
   "execution_count": 25,
   "id": "97d8f667-e5d9-4930-9069-8e0c25997d40",
   "metadata": {},
   "outputs": [
    {
     "data": {
      "text/plain": [
       "['Mathematics', 'Chemistry', 100, 200, 300, 'Hanan']"
      ]
     },
     "execution_count": 25,
     "metadata": {},
     "output_type": "execute_result"
    }
   ],
   "source": [
    "lst"
   ]
  },
  {
   "cell_type": "code",
   "execution_count": 27,
   "id": "fcd53ea7-d1a6-4b51-b207-f1b5360aa845",
   "metadata": {},
   "outputs": [
    {
     "data": {
      "text/plain": [
       "100"
      ]
     },
     "execution_count": 27,
     "metadata": {},
     "output_type": "execute_result"
    }
   ],
   "source": [
    "#indexing in list\n",
    "lst[2]"
   ]
  },
  {
   "cell_type": "code",
   "execution_count": 29,
   "id": "bdc6d4bc-97ec-409d-a0eb-ce063540f7f0",
   "metadata": {},
   "outputs": [
    {
     "data": {
      "text/plain": [
       "['Mathematics', 'Chemistry', 100, 200, 300, 'Hanan']"
      ]
     },
     "execution_count": 29,
     "metadata": {},
     "output_type": "execute_result"
    }
   ],
   "source": [
    "lst[:] #picks up all elements"
   ]
  },
  {
   "cell_type": "code",
   "execution_count": 30,
   "id": "e2c5b0ab-5597-4735-a4b4-fd703b6d5133",
   "metadata": {},
   "outputs": [],
   "source": [
    "# inserting item in a specific position\n",
    "lst.insert(1,'hello')"
   ]
  },
  {
   "cell_type": "code",
   "execution_count": 31,
   "id": "7277a9f3-f440-4414-8b70-86097609f0fa",
   "metadata": {},
   "outputs": [
    {
     "data": {
      "text/plain": [
       "['Mathematics', 'hello', 'Chemistry', 100, 200, 300, 'Hanan']"
      ]
     },
     "execution_count": 31,
     "metadata": {},
     "output_type": "execute_result"
    }
   ],
   "source": [
    "lst"
   ]
  },
  {
   "cell_type": "code",
   "execution_count": 34,
   "id": "7b411edf-a650-444b-b5f9-adf3c04ec7b2",
   "metadata": {},
   "outputs": [
    {
     "data": {
      "text/plain": [
       "['Mathematics', 'hello', 'Chemistry', 100, 200, 300, 'Hanan', ['yes', 4]]"
      ]
     },
     "execution_count": 34,
     "metadata": {},
     "output_type": "execute_result"
    }
   ],
   "source": [
    "lst.append(['yes',4])\n",
    "lst"
   ]
  },
  {
   "cell_type": "markdown",
   "id": "1103b874-1983-4026-bd5d-803b108e26f9",
   "metadata": {},
   "source": [
    "Extend Method"
   ]
  },
  {
   "cell_type": "code",
   "execution_count": 38,
   "id": "837e7a62-599b-4af2-bef4-df726135ea77",
   "metadata": {},
   "outputs": [
    {
     "data": {
      "text/plain": [
       "[1, 2, 3, 4, 5, 6, 8, 9]"
      ]
     },
     "execution_count": 38,
     "metadata": {},
     "output_type": "execute_result"
    }
   ],
   "source": [
    "lst=[1,2,3,4,5,6]\n",
    "lst.extend([8,9]) #adds as separate element unlike append\n",
    "lst"
   ]
  },
  {
   "cell_type": "code",
   "execution_count": 39,
   "id": "46b6936e-8468-4046-83d9-cf6e60c57eaa",
   "metadata": {},
   "outputs": [
    {
     "data": {
      "text/plain": [
       "9"
      ]
     },
     "execution_count": 39,
     "metadata": {},
     "output_type": "execute_result"
    }
   ],
   "source": [
    "#pop method\n",
    "lst.pop() #removes last element if not specified"
   ]
  },
  {
   "cell_type": "code",
   "execution_count": 40,
   "id": "82db195a-8563-43b7-9097-474cf4494995",
   "metadata": {},
   "outputs": [
    {
     "data": {
      "text/plain": [
       "[1, 2, 3, 4, 5, 6, 8]"
      ]
     },
     "execution_count": 40,
     "metadata": {},
     "output_type": "execute_result"
    }
   ],
   "source": [
    "lst"
   ]
  },
  {
   "cell_type": "code",
   "execution_count": 41,
   "id": "89a6a511-ecbd-4732-8353-f04cd85e5f68",
   "metadata": {},
   "outputs": [
    {
     "data": {
      "text/plain": [
       "[2, 3, 4, 5, 6, 8]"
      ]
     },
     "execution_count": 41,
     "metadata": {},
     "output_type": "execute_result"
    }
   ],
   "source": [
    "lst.pop(0)\n",
    "lst"
   ]
  },
  {
   "cell_type": "code",
   "execution_count": 43,
   "id": "ce327d0b-d3e5-4095-9ee7-818480bb9224",
   "metadata": {},
   "outputs": [
    {
     "data": {
      "text/plain": [
       "1"
      ]
     },
     "execution_count": 43,
     "metadata": {},
     "output_type": "execute_result"
    }
   ],
   "source": [
    "lst=[1,2,3,4,5]\n",
    "lst.count(1) #counts the number of occurances of the specified element"
   ]
  },
  {
   "cell_type": "code",
   "execution_count": 47,
   "id": "00599d66-77c4-4234-99d3-80e1df827d32",
   "metadata": {},
   "outputs": [
    {
     "data": {
      "text/plain": [
       "0"
      ]
     },
     "execution_count": 47,
     "metadata": {},
     "output_type": "execute_result"
    }
   ],
   "source": [
    "#(element, strt,stop)\n",
    "lst.index(1,0,4) \n",
    "#returns the index of the first occurrence, start and end index are not needed "
   ]
  },
  {
   "cell_type": "code",
   "execution_count": 45,
   "id": "b4d1c70c-c0b7-4de1-879d-96e3f7c14f8d",
   "metadata": {},
   "outputs": [
    {
     "data": {
      "text/plain": [
       "1"
      ]
     },
     "execution_count": 45,
     "metadata": {},
     "output_type": "execute_result"
    }
   ],
   "source": [
    "min(lst)"
   ]
  },
  {
   "cell_type": "code",
   "execution_count": 46,
   "id": "5b22f9be-8a2d-4dda-84f7-590cfeba801b",
   "metadata": {},
   "outputs": [
    {
     "data": {
      "text/plain": [
       "5"
      ]
     },
     "execution_count": 46,
     "metadata": {},
     "output_type": "execute_result"
    }
   ],
   "source": [
    "max(lst)"
   ]
  }
 ],
 "metadata": {
  "kernelspec": {
   "display_name": "Python 3 (ipykernel)",
   "language": "python",
   "name": "python3"
  },
  "language_info": {
   "codemirror_mode": {
    "name": "ipython",
    "version": 3
   },
   "file_extension": ".py",
   "mimetype": "text/x-python",
   "name": "python",
   "nbconvert_exporter": "python",
   "pygments_lexer": "ipython3",
   "version": "3.13.5"
  }
 },
 "nbformat": 4,
 "nbformat_minor": 5
}
