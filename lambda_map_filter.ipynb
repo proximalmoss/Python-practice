{
 "cells": [
  {
   "cell_type": "markdown",
   "id": "ad66c842-6432-4fa9-9172-842aabca1809",
   "metadata": {},
   "source": [
    "LAMBDA FUNCTIONS"
   ]
  },
  {
   "cell_type": "code",
   "execution_count": 3,
   "id": "73720485-5381-423a-bd7b-ff91b5a1e5cc",
   "metadata": {},
   "outputs": [],
   "source": [
    "def addition(a,b): #regular function\n",
    "    return a+b"
   ]
  },
  {
   "cell_type": "code",
   "execution_count": 2,
   "id": "f7233c13-f3c0-417c-ac53-0abd2b91578b",
   "metadata": {},
   "outputs": [
    {
     "data": {
      "text/plain": [
       "6"
      ]
     },
     "execution_count": 2,
     "metadata": {},
     "output_type": "execute_result"
    }
   ],
   "source": [
    "addition(4,2)"
   ]
  },
  {
   "cell_type": "code",
   "execution_count": 4,
   "id": "3e2683d4-0626-43d6-8a05-c8976eedcce6",
   "metadata": {},
   "outputs": [],
   "source": [
    "#single expression functions can be converted to lambda functions\n",
    "\n",
    "add=lambda a,b:a+b"
   ]
  },
  {
   "cell_type": "code",
   "execution_count": 5,
   "id": "1d29f00d-896c-4e3e-b288-8bf9f45cb71c",
   "metadata": {},
   "outputs": [
    {
     "data": {
      "text/plain": [
       "3"
      ]
     },
     "execution_count": 5,
     "metadata": {},
     "output_type": "execute_result"
    }
   ],
   "source": [
    "add(1,2)"
   ]
  },
  {
   "cell_type": "code",
   "execution_count": 6,
   "id": "cfaac444-fe1d-464a-9304-ecaf9a72137e",
   "metadata": {},
   "outputs": [],
   "source": [
    "def even(num):\n",
    "    if num%2==0:\n",
    "        return True"
   ]
  },
  {
   "cell_type": "code",
   "execution_count": 7,
   "id": "73e3332e-6fa5-4b62-bec4-c62d06d6eabf",
   "metadata": {},
   "outputs": [
    {
     "data": {
      "text/plain": [
       "True"
      ]
     },
     "execution_count": 7,
     "metadata": {},
     "output_type": "execute_result"
    }
   ],
   "source": [
    "even(24)"
   ]
  },
  {
   "cell_type": "code",
   "execution_count": 8,
   "id": "580e3e5b-ddda-40fb-a755-6e3fd51fa12a",
   "metadata": {},
   "outputs": [],
   "source": [
    "even=lambda a:a%2==0"
   ]
  },
  {
   "cell_type": "code",
   "execution_count": 9,
   "id": "9507fee6-7045-44ba-b60c-5096c9ca4a2f",
   "metadata": {},
   "outputs": [
    {
     "data": {
      "text/plain": [
       "False"
      ]
     },
     "execution_count": 9,
     "metadata": {},
     "output_type": "execute_result"
    }
   ],
   "source": [
    "even(1)"
   ]
  },
  {
   "cell_type": "code",
   "execution_count": 10,
   "id": "dd493933-5328-447c-ac12-6695d06992fe",
   "metadata": {},
   "outputs": [],
   "source": [
    "def add(x,y,z):\n",
    "    return x+y+z"
   ]
  },
  {
   "cell_type": "code",
   "execution_count": 11,
   "id": "2cdd8338-278e-4c5b-982e-3827d0da633d",
   "metadata": {},
   "outputs": [
    {
     "data": {
      "text/plain": [
       "9"
      ]
     },
     "execution_count": 11,
     "metadata": {},
     "output_type": "execute_result"
    }
   ],
   "source": [
    "add(2,3,4)"
   ]
  },
  {
   "cell_type": "code",
   "execution_count": 12,
   "id": "b115cca8-b905-42fc-8f8f-f25271d304bf",
   "metadata": {},
   "outputs": [
    {
     "data": {
      "text/plain": [
       "16"
      ]
     },
     "execution_count": 12,
     "metadata": {},
     "output_type": "execute_result"
    }
   ],
   "source": [
    "add=lambda x,y,z:x+y+z\n",
    "add(4,5,7)"
   ]
  },
  {
   "cell_type": "markdown",
   "id": "60d9673a-c1c1-4f63-b890-e1def658a9bf",
   "metadata": {},
   "source": [
    "MAP FUNCTIONS"
   ]
  },
  {
   "cell_type": "code",
   "execution_count": 13,
   "id": "9d10ec95-8695-4355-93db-2b6217f8de1d",
   "metadata": {},
   "outputs": [],
   "source": [
    "def even_or_odd(num):\n",
    "    if num%2==0:\n",
    "        return \"even\"\n",
    "    else:\n",
    "        return \"odd\""
   ]
  },
  {
   "cell_type": "code",
   "execution_count": 14,
   "id": "36c17717-766a-408b-b6b8-1d2dc424afd1",
   "metadata": {},
   "outputs": [
    {
     "data": {
      "text/plain": [
       "'odd'"
      ]
     },
     "execution_count": 14,
     "metadata": {},
     "output_type": "execute_result"
    }
   ],
   "source": [
    "even_or_odd(15)"
   ]
  },
  {
   "cell_type": "code",
   "execution_count": 15,
   "id": "76b84576-a814-42bb-91a6-104b38fb1e7f",
   "metadata": {},
   "outputs": [],
   "source": [
    "#applying the same function for multiple numbers\n",
    "lst=[1,2,3,4,5,6,18,50,34,90]"
   ]
  },
  {
   "cell_type": "code",
   "execution_count": 17,
   "id": "e64cb24a-2d72-4a65-95d3-33fb572ee3fb",
   "metadata": {},
   "outputs": [
    {
     "data": {
      "text/plain": [
       "['odd', 'even', 'odd', 'even', 'odd', 'even', 'even', 'even', 'even', 'even']"
      ]
     },
     "execution_count": 17,
     "metadata": {},
     "output_type": "execute_result"
    }
   ],
   "source": [
    "list(map(even_or_odd,lst))"
   ]
  },
  {
   "cell_type": "markdown",
   "id": "05df6722-6358-41c4-9eb0-7fc4ce52ef86",
   "metadata": {},
   "source": [
    "FILTER FUNCTIONS"
   ]
  },
  {
   "cell_type": "code",
   "execution_count": 18,
   "id": "6d7d674e-fb69-4952-94e9-02aa708fa837",
   "metadata": {},
   "outputs": [],
   "source": [
    "def even(num):\n",
    "    if num%2==0:\n",
    "        return \"even\""
   ]
  },
  {
   "cell_type": "code",
   "execution_count": 20,
   "id": "4d070f74-40ad-47c1-9558-b9d7fab75062",
   "metadata": {},
   "outputs": [
    {
     "data": {
      "text/plain": [
       "[2, 4, 6, 18, 50, 34, 90]"
      ]
     },
     "execution_count": 20,
     "metadata": {},
     "output_type": "execute_result"
    }
   ],
   "source": [
    "list(filter(even,lst)) #gives only even elements from the list"
   ]
  },
  {
   "cell_type": "code",
   "execution_count": 21,
   "id": "b1139221-a936-4efc-b4e0-62447f096b50",
   "metadata": {},
   "outputs": [
    {
     "data": {
      "text/plain": [
       "[2, 4, 6, 18, 50, 34, 90]"
      ]
     },
     "execution_count": 21,
     "metadata": {},
     "output_type": "execute_result"
    }
   ],
   "source": [
    "list(filter(lambda num:num%2==0,lst))"
   ]
  },
  {
   "cell_type": "code",
   "execution_count": 22,
   "id": "7b928339-c5c2-4c31-85c7-869f10baa550",
   "metadata": {},
   "outputs": [
    {
     "data": {
      "text/plain": [
       "[False, True, False, True, False, True, True, True, True, True]"
      ]
     },
     "execution_count": 22,
     "metadata": {},
     "output_type": "execute_result"
    }
   ],
   "source": [
    "list(map(lambda num:num%2==0,lst))"
   ]
  }
 ],
 "metadata": {
  "kernelspec": {
   "display_name": "Python 3 (ipykernel)",
   "language": "python",
   "name": "python3"
  },
  "language_info": {
   "codemirror_mode": {
    "name": "ipython",
    "version": 3
   },
   "file_extension": ".py",
   "mimetype": "text/x-python",
   "name": "python",
   "nbconvert_exporter": "python",
   "pygments_lexer": "ipython3",
   "version": "3.13.5"
  }
 },
 "nbformat": 4,
 "nbformat_minor": 5
}
