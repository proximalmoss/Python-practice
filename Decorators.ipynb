{
 "cells": [
  {
   "cell_type": "markdown",
   "id": "2d35d59a-f3b9-438c-bf74-ad5e2a47c1e3",
   "metadata": {},
   "source": [
    "DECORATORS"
   ]
  },
  {
   "cell_type": "code",
   "execution_count": 1,
   "id": "01e53fee-984c-4bad-925b-30bb71437f17",
   "metadata": {},
   "outputs": [],
   "source": [
    "#function copy\n",
    "#closures\n",
    "#decorators"
   ]
  },
  {
   "cell_type": "code",
   "execution_count": 2,
   "id": "b727496e-2c57-4968-9d59-023518c57994",
   "metadata": {},
   "outputs": [],
   "source": [
    "def welcome():\n",
    "    print(\"Hey! Welcome\")"
   ]
  },
  {
   "cell_type": "code",
   "execution_count": 6,
   "id": "9c258cbf-d360-4cd6-b40c-4fae20ebd811",
   "metadata": {},
   "outputs": [
    {
     "name": "stdout",
     "output_type": "stream",
     "text": [
      "Hey! Welcome\n"
     ]
    }
   ],
   "source": [
    "welcome()"
   ]
  },
  {
   "cell_type": "code",
   "execution_count": 12,
   "id": "ab441265-9001-4045-8bf8-b7960dfea680",
   "metadata": {},
   "outputs": [],
   "source": [
    "def welcome():\n",
    "    return \"Hey! Welcome\""
   ]
  },
  {
   "cell_type": "code",
   "execution_count": 13,
   "id": "205060fe-3223-42e8-985d-1a50e08a9b41",
   "metadata": {},
   "outputs": [
    {
     "data": {
      "text/plain": [
       "'Hey! Welcome'"
      ]
     },
     "execution_count": 13,
     "metadata": {},
     "output_type": "execute_result"
    }
   ],
   "source": [
    "wel=welcome()\n",
    "wel"
   ]
  },
  {
   "cell_type": "code",
   "execution_count": 14,
   "id": "96a46d04-0e28-40f7-901a-1fb97799c207",
   "metadata": {},
   "outputs": [
    {
     "data": {
      "text/plain": [
       "'Hey! Welcome'"
      ]
     },
     "execution_count": 14,
     "metadata": {},
     "output_type": "execute_result"
    }
   ],
   "source": [
    "del welcome\n",
    "wel #this means that we have copied the function (so basically function copying)"
   ]
  },
  {
   "cell_type": "code",
   "execution_count": 21,
   "id": "497b6c67-4e99-48c4-a550-25ebedd4cd25",
   "metadata": {},
   "outputs": [],
   "source": [
    "#closures\n",
    "def main_welcome():\n",
    "    msg=\"Hi everyone\"\n",
    "    def sub_welcome_class():\n",
    "        print(\"Hello! Welcome\")\n",
    "        print(msg)\n",
    "        print(\"Hey!\")\n",
    "    return sub_welcome_class()"
   ]
  },
  {
   "cell_type": "code",
   "execution_count": 22,
   "id": "ce90f288-eeae-4dba-926c-08c64526ffc3",
   "metadata": {},
   "outputs": [
    {
     "name": "stdout",
     "output_type": "stream",
     "text": [
      "Hello! Welcome\n",
      "Hi everyone\n",
      "Hey!\n"
     ]
    }
   ],
   "source": [
    "main_welcome()"
   ]
  },
  {
   "cell_type": "code",
   "execution_count": 29,
   "id": "ebbdbe08-a7e4-42cd-9590-489e651d7025",
   "metadata": {},
   "outputs": [],
   "source": [
    "#Closures (intial Decorators)\n",
    "def main_welcome(func):\n",
    "\n",
    "    def sub_welcome_class():\n",
    "        print(\"Hello! Welcome\")\n",
    "        func(\"This is a function\")\n",
    "        print(\"Hey!\")\n",
    "    return sub_welcome_class()"
   ]
  },
  {
   "cell_type": "code",
   "execution_count": 30,
   "id": "e88d1025-7439-44aa-9d07-102ba031463c",
   "metadata": {},
   "outputs": [
    {
     "name": "stdout",
     "output_type": "stream",
     "text": [
      "Hello! Welcome\n",
      "This is a function\n",
      "Hey!\n"
     ]
    }
   ],
   "source": [
    "main_welcome(print)"
   ]
  },
  {
   "cell_type": "code",
   "execution_count": 33,
   "id": "dbbaca03-3dda-4e1c-aedc-6597bd28d2b6",
   "metadata": {},
   "outputs": [],
   "source": [
    "#Closures (intial Decorators)\n",
    "def main_welcome_(func):\n",
    "\n",
    "    def sub_welcome_class():\n",
    "        print(\"Hello! Welcome\")\n",
    "        print(func([1,2,3,4]))\n",
    "        print(\"Hey!\")\n",
    "    return sub_welcome_class()"
   ]
  },
  {
   "cell_type": "code",
   "execution_count": 34,
   "id": "d15f48a3-dfdd-43ad-833c-3aaf1e5044f2",
   "metadata": {},
   "outputs": [
    {
     "name": "stdout",
     "output_type": "stream",
     "text": [
      "Hello! Welcome\n",
      "4\n",
      "Hey!\n"
     ]
    }
   ],
   "source": [
    "main_welcome_(len)"
   ]
  },
  {
   "cell_type": "code",
   "execution_count": 64,
   "id": "99cce737-cf1e-41c0-adac-77b296e2c7d1",
   "metadata": {},
   "outputs": [],
   "source": [
    "#Decorators\n",
    "def main_welcome_(func):\n",
    "\n",
    "    def sub_welcome_class():\n",
    "        print(\"Hello! Welcome\")\n",
    "        func()\n",
    "        print(\"Hey!\")\n",
    "    return sub_welcome_class()"
   ]
  },
  {
   "cell_type": "code",
   "execution_count": 65,
   "id": "0e42841f-9236-4a91-859a-e593e0faa3d4",
   "metadata": {},
   "outputs": [],
   "source": [
    "def channel_name():\n",
    "    print(\"Hi Hanan\")"
   ]
  },
  {
   "cell_type": "code",
   "execution_count": 66,
   "id": "1dd2c28e-c715-47cf-b219-19338849f273",
   "metadata": {},
   "outputs": [
    {
     "name": "stdout",
     "output_type": "stream",
     "text": [
      "Hello! Welcome\n",
      "Hi Hanan\n",
      "Hey!\n"
     ]
    }
   ],
   "source": [
    "main_welcome_(channel_name)"
   ]
  },
  {
   "cell_type": "code",
   "execution_count": 68,
   "id": "d0c7fa2e-7acf-4327-9a7d-988c9bdfc4a9",
   "metadata": {},
   "outputs": [
    {
     "name": "stdout",
     "output_type": "stream",
     "text": [
      "Hello! Welcome\n",
      "Hi Hanan\n",
      "Hey!\n"
     ]
    }
   ],
   "source": [
    "#we can also define a decorator\n",
    "@main_welcome_\n",
    "def channel_name():\n",
    "    print(\"Hi Hanan\")"
   ]
  }
 ],
 "metadata": {
  "kernelspec": {
   "display_name": "Python 3 (ipykernel)",
   "language": "python",
   "name": "python3"
  },
  "language_info": {
   "codemirror_mode": {
    "name": "ipython",
    "version": 3
   },
   "file_extension": ".py",
   "mimetype": "text/x-python",
   "name": "python",
   "nbconvert_exporter": "python",
   "pygments_lexer": "ipython3",
   "version": "3.13.5"
  }
 },
 "nbformat": 4,
 "nbformat_minor": 5
}
