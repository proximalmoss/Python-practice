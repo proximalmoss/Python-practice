{
 "cells": [
  {
   "cell_type": "markdown",
   "id": "88581777-40bb-4254-9d6d-ec523e440c5e",
   "metadata": {},
   "source": [
    "GENERATORS AND ITERATORS"
   ]
  },
  {
   "cell_type": "code",
   "execution_count": 2,
   "id": "9144a5ce-02c1-4817-a3fa-e6def2f257df",
   "metadata": {},
   "outputs": [
    {
     "name": "stdout",
     "output_type": "stream",
     "text": [
      "1\n",
      "2\n",
      "3\n",
      "4\n",
      "5\n"
     ]
    }
   ],
   "source": [
    "#iterables\n",
    "lst=[1,2,3,4,5]\n",
    "for i in lst:\n",
    "    print(i)"
   ]
  },
  {
   "cell_type": "code",
   "execution_count": 12,
   "id": "33833dcb-b037-4dbb-95b2-25b1c89634af",
   "metadata": {},
   "outputs": [
    {
     "data": {
      "text/plain": [
       "<list_iterator at 0x10cde2f20>"
      ]
     },
     "execution_count": 12,
     "metadata": {},
     "output_type": "execute_result"
    }
   ],
   "source": [
    "#iterator\n",
    "iter(lst)"
   ]
  },
  {
   "cell_type": "code",
   "execution_count": 14,
   "id": "74650156-1cc4-4ff6-bcc4-2c78d77aaaf0",
   "metadata": {},
   "outputs": [],
   "source": [
    "iterator=iter(lst)"
   ]
  },
  {
   "cell_type": "code",
   "execution_count": 10,
   "id": "9fd6c8a8-2e54-42bb-9c0a-15dd84451369",
   "metadata": {},
   "outputs": [
    {
     "name": "stdout",
     "output_type": "stream",
     "text": [
      "1\n",
      "2\n",
      "3\n",
      "4\n",
      "5\n"
     ]
    }
   ],
   "source": [
    "#we can iterate\n",
    "for i in iterator:\n",
    "    print(i)"
   ]
  },
  {
   "cell_type": "code",
   "execution_count": 16,
   "id": "ba97f376-6539-4902-a892-676ec8c3f1c8",
   "metadata": {},
   "outputs": [
    {
     "data": {
      "text/plain": [
       "2"
      ]
     },
     "execution_count": 16,
     "metadata": {},
     "output_type": "execute_result"
    }
   ],
   "source": [
    "next(iterator) #gives element only once"
   ]
  },
  {
   "cell_type": "code",
   "execution_count": 20,
   "id": "89e3f261-058f-4989-a78e-2d7bc3f55a43",
   "metadata": {},
   "outputs": [
    {
     "name": "stdout",
     "output_type": "stream",
     "text": [
      "The iterator is empty\n"
     ]
    }
   ],
   "source": [
    "try:\n",
    "    print(next(iterator))\n",
    "except StopIteration:\n",
    "    print(\"The iterator is empty\")"
   ]
  },
  {
   "cell_type": "code",
   "execution_count": 21,
   "id": "6c6badf3-d277-42f4-a0d5-fe4683268f3c",
   "metadata": {},
   "outputs": [],
   "source": [
    "#generator\n",
    "def square(n):\n",
    "    for i in range(n):\n",
    "        return i**2"
   ]
  },
  {
   "cell_type": "code",
   "execution_count": 22,
   "id": "d159f236-dbab-4011-8fcd-afbe8b566233",
   "metadata": {},
   "outputs": [
    {
     "data": {
      "text/plain": [
       "0"
      ]
     },
     "execution_count": 22,
     "metadata": {},
     "output_type": "execute_result"
    }
   ],
   "source": [
    "square(3)"
   ]
  },
  {
   "cell_type": "code",
   "execution_count": 23,
   "id": "bb1e6e4e-5d3b-41f0-8bfc-434e660ab480",
   "metadata": {},
   "outputs": [],
   "source": [
    "def square(n):\n",
    "    for i in range(n):\n",
    "        yield i**2"
   ]
  },
  {
   "cell_type": "code",
   "execution_count": 24,
   "id": "270f94f1-7980-4af0-aa0f-5f28537adb40",
   "metadata": {},
   "outputs": [
    {
     "data": {
      "text/plain": [
       "<generator object square at 0x10d2b0450>"
      ]
     },
     "execution_count": 24,
     "metadata": {},
     "output_type": "execute_result"
    }
   ],
   "source": [
    "#generators are basically used in order to create iterators\n",
    "square(3)"
   ]
  },
  {
   "cell_type": "code",
   "execution_count": 25,
   "id": "ffb5c0b1-bcd6-48ef-a5cd-ae3b77b9a301",
   "metadata": {},
   "outputs": [
    {
     "name": "stdout",
     "output_type": "stream",
     "text": [
      "0\n",
      "1\n",
      "4\n"
     ]
    }
   ],
   "source": [
    "for i in square(3):\n",
    "    print(i)"
   ]
  },
  {
   "cell_type": "code",
   "execution_count": 27,
   "id": "094fdc3b-34cb-419b-b4b3-67a23c29954a",
   "metadata": {},
   "outputs": [
    {
     "data": {
      "text/plain": [
       "<generator object square at 0x10d2b06c0>"
      ]
     },
     "execution_count": 27,
     "metadata": {},
     "output_type": "execute_result"
    }
   ],
   "source": [
    "a=square(3)\n",
    "a"
   ]
  },
  {
   "cell_type": "code",
   "execution_count": 29,
   "id": "5464e030-9590-4128-8e63-fd67aa0caf8e",
   "metadata": {},
   "outputs": [
    {
     "data": {
      "text/plain": [
       "1"
      ]
     },
     "execution_count": 29,
     "metadata": {},
     "output_type": "execute_result"
    }
   ],
   "source": [
    "next(a)"
   ]
  },
  {
   "cell_type": "markdown",
   "id": "faf3aba3-e246-4f78-8ddd-0478bf86ac49",
   "metadata": {},
   "source": [
    "DIFFERENCES  \n",
    "(1) To create an iterator, we use the iter(), and to create generator, we use function along with the yield keyword  \n",
    "(2) Generator uses the yield keyword, which saves the local variable value  \n",
    "(3) Generator in Python lets use write fast and compact code  \n",
    "(4) Python iterators are much more memory efficient  "
   ]
  }
 ],
 "metadata": {
  "kernelspec": {
   "display_name": "Python 3 (ipykernel)",
   "language": "python",
   "name": "python3"
  },
  "language_info": {
   "codemirror_mode": {
    "name": "ipython",
    "version": 3
   },
   "file_extension": ".py",
   "mimetype": "text/x-python",
   "name": "python",
   "nbconvert_exporter": "python",
   "pygments_lexer": "ipython3",
   "version": "3.13.5"
  }
 },
 "nbformat": 4,
 "nbformat_minor": 5
}
